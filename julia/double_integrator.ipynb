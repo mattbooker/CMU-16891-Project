{
 "cells": [
  {
   "cell_type": "code",
   "execution_count": 3,
   "id": "5bb3c5c6",
   "metadata": {},
   "outputs": [
    {
     "name": "stderr",
     "output_type": "stream",
     "text": [
      "\u001b[32m\u001b[1m  Activating\u001b[22m\u001b[39m environment at `C:\\Users\\Matthew\\Desktop\\Work\\CMU\\Spring 2023\\Multi-Agent Planning\\project\\julia\\Project.toml`\n"
     ]
    }
   ],
   "source": [
    "import Pkg\n",
    "Pkg.activate(@__DIR__)\n",
    "Pkg.instantiate()\n",
    "using LinearAlgebra, Plots\n",
    "import ForwardDiff as FD\n",
    "using JLD2\n",
    "using Test\n",
    "using Random\n",
    "using Printf"
   ]
  },
  {
   "cell_type": "code",
   "execution_count": 3,
   "id": "4505a073",
   "metadata": {},
   "outputs": [
    {
     "name": "stderr",
     "output_type": "stream",
     "text": [
      "\u001b[32m\u001b[1m    Updating\u001b[22m\u001b[39m registry at `C:\\Users\\Matthew\\.julia\\registries\\General`\n",
      "\u001b[32m\u001b[1m    Updating\u001b[22m\u001b[39m git-repo `https://github.com/JuliaRegistries/General.git`\n",
      "\u001b[32m\u001b[1m   Resolving\u001b[22m\u001b[39m package versions...\n",
      "\u001b[32m\u001b[1m  No Changes\u001b[22m\u001b[39m to `C:\\Users\\Matthew\\Desktop\\Work\\CMU\\Spring 2023\\Multi-Agent Planning\\project\\julia\\Project.toml`\n",
      "\u001b[32m\u001b[1m  No Changes\u001b[22m\u001b[39m to `C:\\Users\\Matthew\\Desktop\\Work\\CMU\\Spring 2023\\Multi-Agent Planning\\project\\julia\\Manifest.toml`\n",
      "\u001b[32m\u001b[1m   Resolving\u001b[22m\u001b[39m package versions...\n",
      "\u001b[32m\u001b[1m  No Changes\u001b[22m\u001b[39m to `C:\\Users\\Matthew\\Desktop\\Work\\CMU\\Spring 2023\\Multi-Agent Planning\\project\\julia\\Project.toml`\n",
      "\u001b[32m\u001b[1m  No Changes\u001b[22m\u001b[39m to `C:\\Users\\Matthew\\Desktop\\Work\\CMU\\Spring 2023\\Multi-Agent Planning\\project\\julia\\Manifest.toml`\n",
      "\u001b[32m\u001b[1m   Resolving\u001b[22m\u001b[39m package versions...\n",
      "\u001b[32m\u001b[1m  No Changes\u001b[22m\u001b[39m to `C:\\Users\\Matthew\\Desktop\\Work\\CMU\\Spring 2023\\Multi-Agent Planning\\project\\julia\\Project.toml`\n",
      "\u001b[32m\u001b[1m  No Changes\u001b[22m\u001b[39m to `C:\\Users\\Matthew\\Desktop\\Work\\CMU\\Spring 2023\\Multi-Agent Planning\\project\\julia\\Manifest.toml`\n",
      "\u001b[32m\u001b[1m   Resolving\u001b[22m\u001b[39m package versions...\n",
      "\u001b[32m\u001b[1m  No Changes\u001b[22m\u001b[39m to `C:\\Users\\Matthew\\Desktop\\Work\\CMU\\Spring 2023\\Multi-Agent Planning\\project\\julia\\Project.toml`\n",
      "\u001b[32m\u001b[1m  No Changes\u001b[22m\u001b[39m to `C:\\Users\\Matthew\\Desktop\\Work\\CMU\\Spring 2023\\Multi-Agent Planning\\project\\julia\\Manifest.toml`\n",
      "\u001b[32m\u001b[1m   Resolving\u001b[22m\u001b[39m package versions...\n",
      "\u001b[32m\u001b[1m  No Changes\u001b[22m\u001b[39m to `C:\\Users\\Matthew\\Desktop\\Work\\CMU\\Spring 2023\\Multi-Agent Planning\\project\\julia\\Project.toml`\n",
      "\u001b[32m\u001b[1m  No Changes\u001b[22m\u001b[39m to `C:\\Users\\Matthew\\Desktop\\Work\\CMU\\Spring 2023\\Multi-Agent Planning\\project\\julia\\Manifest.toml`\n",
      "\u001b[32m\u001b[1m   Resolving\u001b[22m\u001b[39m package versions...\n",
      "\u001b[32m\u001b[1m  No Changes\u001b[22m\u001b[39m to `C:\\Users\\Matthew\\Desktop\\Work\\CMU\\Spring 2023\\Multi-Agent Planning\\project\\julia\\Project.toml`\n",
      "\u001b[32m\u001b[1m  No Changes\u001b[22m\u001b[39m to `C:\\Users\\Matthew\\Desktop\\Work\\CMU\\Spring 2023\\Multi-Agent Planning\\project\\julia\\Manifest.toml`\n",
      "\u001b[32m\u001b[1m   Resolving\u001b[22m\u001b[39m package versions...\n",
      "\u001b[32m\u001b[1m  No Changes\u001b[22m\u001b[39m to `C:\\Users\\Matthew\\Desktop\\Work\\CMU\\Spring 2023\\Multi-Agent Planning\\project\\julia\\Project.toml`\n",
      "\u001b[32m\u001b[1m  No Changes\u001b[22m\u001b[39m to `C:\\Users\\Matthew\\Desktop\\Work\\CMU\\Spring 2023\\Multi-Agent Planning\\project\\julia\\Manifest.toml`\n"
     ]
    }
   ],
   "source": [
    "# Pkg.add(\"RobotZoo\")\n",
    "# Pkg.add(\"StaticArrays\")\n",
    "# Pkg.add(\"Colors\")\n",
    "# Pkg.add(\"GeometryBasics\")\n",
    "# Pkg.add(\"RobotDynamics\")\n",
    "# Pkg.add(\"CoordinateTransformations\")\n",
    "# Pkg.add(\"Rotations\")"
   ]
  },
  {
   "cell_type": "code",
   "execution_count": 4,
   "id": "8615b19a",
   "metadata": {},
   "outputs": [
    {
     "data": {
      "text/plain": [
       "animate_quadrotor (generic function with 1 method)"
      ]
     },
     "execution_count": 4,
     "metadata": {},
     "output_type": "execute_result"
    }
   ],
   "source": [
    "include(joinpath(@__DIR__, \"utils\",\"fmincon.jl\"))\n",
    "include(joinpath(@__DIR__, \"utils\",\"quadrotor.jl\"))"
   ]
  },
  {
   "cell_type": "code",
   "execution_count": 5,
   "id": "0a267d11",
   "metadata": {},
   "outputs": [
    {
     "data": {
      "text/plain": [
       "rk4 (generic function with 2 methods)"
      ]
     },
     "execution_count": 5,
     "metadata": {},
     "output_type": "execute_result"
    }
   ],
   "source": [
    "\"\"\"\n",
    "continuous time dynamics for a double integrator, the state is \n",
    "x = [p, ṗ]\n",
    "where p is the 3D position\n",
    "\"\"\"\n",
    "function dynamics(x::Vector, u)\n",
    "    # Double integrator ODE\n",
    "\n",
    "    g = 9.81\n",
    "    \n",
    "    qd = x[4:6]\n",
    "    qdd = u\n",
    "    \n",
    "    return [qd; qdd]\n",
    "\n",
    "end\n",
    "\n",
    "function rk4(x::Vector, u, dt::Float64)\n",
    "    # vanilla RK4\n",
    "    k1 = dt*dynamics(x, u)\n",
    "    k2 = dt*dynamics(x + k1/2, u)\n",
    "    k3 = dt*dynamics(x + k2/2, u)\n",
    "    k4 = dt*dynamics(x + k3, u)\n",
    "    x + (1/6)*(k1 + 2*k2 + 2*k3 + k4)\n",
    "end"
   ]
  },
  {
   "cell_type": "code",
   "execution_count": 6,
   "id": "4410ecd4",
   "metadata": {},
   "outputs": [
    {
     "data": {
      "text/plain": [
       "inequality_constraint (generic function with 1 method)"
      ]
     },
     "execution_count": 6,
     "metadata": {},
     "output_type": "execute_result"
    }
   ],
   "source": [
    "function create_idx(nx,nu,N)\n",
    "    # This function creates some useful indexing tools for Z \n",
    "    # x_i = Z[idx.x[i]]\n",
    "    # u_i = Z[idx.u[i]]\n",
    "    \n",
    "    # our Z vector is [x0, u0, x1, u1, …, xN]\n",
    "    nz = (N-1) * nu + N * nx # length of Z \n",
    "    x = [(i - 1) * (nx + nu) .+ (1 : nx) for i = 1:N]\n",
    "    u = [(i - 1) * (nx + nu) .+ ((nx + 1):(nx + nu)) for i = 1:(N - 1)]\n",
    "    \n",
    "    # constraint indexing for the (N-1) dynamics constraints when stacked up\n",
    "    c = [(i - 1) * (nx) .+ (1 : nx) for i = 1:(N - 1)]\n",
    "    nc = (N - 1) * nx # (N-1)*nx \n",
    "    \n",
    "    return (nx=nx,nu=nu,N=N,nz=nz,nc=nc,x= x,u = u,c = c)\n",
    "end\n",
    "\n",
    "function cost(params::NamedTuple, Z::Vector)::Real\n",
    "    idx, N, xg = params.idx, params.N, params.xg\n",
    "    Q, R, Qf = params.Q, params.R, params.Qf\n",
    "    \n",
    "    J = 0 \n",
    "    for i = 1:(N-1)\n",
    "        xi = Z[idx.x[i]]\n",
    "        ui = Z[idx.u[i]]\n",
    "       \n",
    "        J += 1/2 * (xi - xg)' * Q * (xi - xg) + 1/2 * ui' * R * ui\n",
    "\n",
    "    end\n",
    "    \n",
    "    # terminal cost\n",
    "    J += 1/2 * Z[idx.x[N]]' * Qf * Z[idx.x[N]]\n",
    "    \n",
    "    return J \n",
    "end\n",
    "\n",
    "function dynamics_constraints(params::NamedTuple, Z::Vector)::Vector\n",
    "    idx, N, dt = params.idx, params.N, params.dt\n",
    "    \n",
    "    # create c in a ForwardDiff friendly way (check HW0)\n",
    "    c = zeros(eltype(Z), idx.nc)\n",
    "    \n",
    "    for i = 1:(N-1)\n",
    "        xi = Z[idx.x[i]]\n",
    "        ui = Z[idx.u[i]] \n",
    "        xip1 = Z[idx.x[i+1]]\n",
    "    \n",
    "        c[idx.c[i]] = xip1 - rk4(xi, ui, dt)\n",
    "    end\n",
    "    return c \n",
    "end\n",
    "\n",
    "function equality_constraint(params::NamedTuple, Z::Vector)::Vector\n",
    "    N, idx, xic, xg = params.N, params.idx, params.xic, params.xg \n",
    "    \n",
    "    eq_constraints = [Z[idx.x[1]] - xic; Z[idx.x[N]] - xg; dynamics_constraints(params, Z)]\n",
    "\n",
    "    return eq_constraints\n",
    "end\n",
    "\n",
    "b1 = [1.0 1.0 1.0]\n",
    "b2 = [1.0 1.0 2.0]\n",
    "b3 = [1.0 1.0 0.0]\n",
    "\n",
    "function inequality_constraint(params, Z)\n",
    "    N, idx = params.N, params.idx\n",
    "    ineq_constraints = zeros(eltype(Z), 0)\n",
    "    \n",
    "#     ineq_constraints = zeros(eltype(Z), 3*N)\n",
    "    \n",
    "#     for i = 1:N\n",
    "#         xi = Z[idx.x[i]]\n",
    "        \n",
    "#         ineq_constraints[3 * (i-1) + 1] = norm(xi[1:3]' - b1) ^ 2\n",
    "#         ineq_constraints[3 * (i-1) + 2] = norm(xi[1:3]' - b2) ^ 2\n",
    "#         ineq_constraints[3 * (i-1) + 3] = norm(xi[1:3]' - b3) ^ 2\n",
    "#     end\n",
    "    \n",
    "    return ineq_constraints\n",
    "end"
   ]
  },
  {
   "cell_type": "code",
   "execution_count": 9,
   "id": "f8079772",
   "metadata": {},
   "outputs": [
    {
     "data": {
      "text/plain": [
       "51"
      ]
     },
     "metadata": {},
     "output_type": "display_data"
    },
    {
     "name": "stdout",
     "output_type": "stream",
     "text": [
      "---------checking dimensions of everything----------\n",
      "---------all dimensions good------------------------\n",
      "---------diff type set to :auto (ForwardDiff.jl)----\n",
      "---------testing objective gradient-----------------\n",
      "---------testing constraint Jacobian----------------\n",
      "---------successfully compiled both derivatives-----\n",
      "---------IPOPT beginning solve----------------------\n",
      "This is Ipopt version 3.13.4, running with linear solver mumps.\n",
      "NOTE: Other linear solvers might be more efficient (see Ipopt documentation).\n",
      "\n",
      "Number of nonzeros in equality constraint Jacobian...:   142272\n",
      "Number of nonzeros in inequality constraint Jacobian.:        0\n",
      "Number of nonzeros in Lagrangian Hessian.............:        0\n",
      "\n",
      "Total number of variables............................:      456\n",
      "                     variables with only lower bounds:        0\n",
      "                variables with lower and upper bounds:      150\n",
      "                     variables with only upper bounds:        0\n",
      "Total number of equality constraints.................:      312\n",
      "Total number of inequality constraints...............:        0\n",
      "        inequality constraints with only lower bounds:        0\n",
      "   inequality constraints with lower and upper bounds:        0\n",
      "        inequality constraints with only upper bounds:        0\n",
      "\n",
      "iter    objective    inf_pr   inf_du lg(mu)  ||d||  lg(rg) alpha_du alpha_pr  ls\n",
      "   0  2.9998654e+02 2.00e+00 1.73e+00   0.0 0.00e+00    -  0.00e+00 0.00e+00   0\n",
      "   1  1.5931633e+02 4.44e-16 6.62e-01  -5.7 2.00e+00    -  5.94e-01 1.00e+00f  1\n",
      "   2  1.4962718e+02 2.22e-16 3.14e-01  -1.7 5.10e-01    -  9.29e-01 1.00e+00f  1\n",
      "   3  1.4580465e+02 2.22e-16 1.49e-01  -2.2 5.39e-01    -  9.97e-01 7.16e-01f  1\n",
      "   4  1.4458526e+02 2.22e-16 8.14e-02  -3.2 4.62e-01    -  1.00e+00 8.24e-01f  1\n",
      "   5  1.4438841e+02 4.44e-16 3.79e-02  -4.3 2.91e-01    -  1.00e+00 7.71e-01f  1\n",
      "   6  1.4434760e+02 2.22e-16 9.51e-03  -4.6 2.39e-01    -  1.00e+00 1.00e+00f  1\n",
      "   7  1.4434445e+02 2.22e-16 8.82e-04  -6.0 7.37e-02    -  1.00e+00 1.00e+00f  1\n",
      "   8  1.4434420e+02 2.22e-16 1.86e-03  -7.7 2.22e-02    -  1.00e+00 1.00e+00f  1\n",
      "   9  1.4434407e+02 2.22e-16 4.98e-04  -8.5 7.44e-03    -  1.00e+00 1.00e+00f  1\n",
      "iter    objective    inf_pr   inf_du lg(mu)  ||d||  lg(rg) alpha_du alpha_pr  ls\n",
      "  10  1.4434405e+02 2.22e-16 2.51e-04  -9.1 3.69e-03    -  1.00e+00 1.00e+00f  1\n",
      "  11  1.4434404e+02 2.22e-16 1.88e-04 -11.0 2.29e-03    -  1.00e+00 1.00e+00f  1\n",
      "  12  1.4434404e+02 2.22e-16 6.44e-05 -11.0 1.50e-03    -  1.00e+00 9.30e-01f  1\n",
      "  13  1.4434404e+02 2.22e-16 2.77e-05 -11.0 6.41e-04    -  1.00e+00 1.00e+00f  1\n",
      "  14  1.4434404e+02 2.22e-16 2.90e-06 -11.0 1.67e-04    -  1.00e+00 9.74e-01h  1\n",
      "  15  1.4434404e+02 2.22e-16 1.43e-06 -11.0 1.65e-05    -  1.00e+00 1.00e+00h  1\n",
      "  16  1.4434404e+02 2.22e-16 5.33e-07 -11.0 7.90e-06    -  1.00e+00 1.00e+00h  1\n",
      "\n",
      "Number of Iterations....: 16\n",
      "\n",
      "                                   (scaled)                 (unscaled)\n",
      "Objective...............:   1.4434403662656172e+02    1.4434403662656172e+02\n",
      "Dual infeasibility......:   5.3345003776781756e-07    5.3345003776781756e-07\n",
      "Constraint violation....:   2.2204460492503131e-16    2.2204460492503131e-16\n",
      "Complementarity.........:   1.0000024533883382e-11    1.0000024533883382e-11\n",
      "Overall NLP error.......:   5.3345003776781756e-07    5.3345003776781756e-07\n",
      "\n",
      "\n",
      "Number of objective function evaluations             = 17\n",
      "Number of objective gradient evaluations             = 17\n",
      "Number of equality constraint evaluations            = 17\n",
      "Number of inequality constraint evaluations          = 0\n",
      "Number of equality constraint Jacobian evaluations   = 17\n",
      "Number of inequality constraint Jacobian evaluations = 0\n",
      "Number of Lagrangian Hessian evaluations             = 0\n",
      "Total CPU secs in IPOPT (w/o function evaluations)   =      1.363\n",
      "Total CPU secs in NLP function evaluations           =      0.477\n",
      "\n",
      "EXIT: Optimal Solution Found.\n"
     ]
    },
    {
     "data": {
      "text/plain": [
       "6-element Vector{Float64}:\n",
       "  0.0\n",
       "  0.0\n",
       "  0.0\n",
       "  0.0\n",
       "  0.0\n",
       " -9.045777300815593e-33"
      ]
     },
     "metadata": {},
     "output_type": "display_data"
    },
    {
     "data": {
      "text/plain": [
       "6-element Vector{Float64}:\n",
       " 0.010000000099933928\n",
       " 0.010000000099933928\n",
       " 0.010000000099933928\n",
       " 0.20000000199867854\n",
       " 0.20000000199867854\n",
       " 0.20000000199867854"
      ]
     },
     "metadata": {},
     "output_type": "display_data"
    },
    {
     "data": {
      "text/plain": [
       "6-element Vector{Float64}:\n",
       " 0.04000000039970347\n",
       " 0.04000000039970347\n",
       " 0.04000000039970347\n",
       " 0.40000000399671226\n",
       " 0.40000000399671226\n",
       " 0.40000000399671226"
      ]
     },
     "metadata": {},
     "output_type": "display_data"
    },
    {
     "data": {
      "text/plain": [
       "6-element Vector{Float64}:\n",
       " 0.09000000089920812\n",
       " 0.09000000089920812\n",
       " 0.09000000089920812\n",
       " 0.6000000059933807\n",
       " 0.6000000059933807\n",
       " 0.6000000059933807"
      ]
     },
     "metadata": {},
     "output_type": "display_data"
    },
    {
     "data": {
      "text/plain": [
       "6-element Vector{Float64}:\n",
       " 0.16000000159816477\n",
       " 0.16000000159816477\n",
       " 0.16000000159816474\n",
       " 0.8000000079857523\n",
       " 0.8000000079857522\n",
       " 0.8000000079857521"
      ]
     },
     "metadata": {},
     "output_type": "display_data"
    },
    {
     "data": {
      "text/plain": [
       "6-element Vector{Float64}:\n",
       " 0.25000000243176057\n",
       " 0.25000000243174675\n",
       " 0.25000000243169507\n",
       " 1.0000000086861642\n",
       " 1.000000008685888\n",
       " 1.000000008684854"
      ]
     },
     "metadata": {},
     "output_type": "display_data"
    },
    {
     "data": {
      "text/plain": [
       "6-element Vector{Float64}:\n",
       " 0.3554199687448692\n",
       " 0.35541996392261604\n",
       " 0.35541996171450274\n",
       " 1.1083993175760078\n",
       " 1.1083992211314975\n",
       " 1.1083991769712986"
      ]
     },
     "metadata": {},
     "output_type": "display_data"
    },
    {
     "data": {
      "text/plain": [
       "6-element Vector{Float64}:\n",
       " 0.46845195746763585\n",
       " 0.46845193896952275\n",
       " 0.4684519300079221\n",
       " 1.1522404568793247\n",
       " 1.1522402798066376\n",
       " 1.1522401888970897"
      ]
     },
     "metadata": {},
     "output_type": "display_data"
    },
    {
     "data": {
      "text/plain": [
       "6-element Vector{Float64}:\n",
       " 0.5836534409227252\n",
       " 0.5836534008656097\n",
       " 0.5836533809566312\n",
       " 1.1517892122224624\n",
       " 1.1517889581151\n",
       " 1.1517888300770924"
      ]
     },
     "metadata": {},
     "output_type": "display_data"
    },
    {
     "data": {
      "text/plain": [
       "6-element Vector{Float64}:\n",
       " 0.6973298920108391\n",
       " 0.6973298235849339\n",
       " 0.697329788997404\n",
       " 1.1217398095398161\n",
       " 1.121739496271385\n",
       " 1.121739330738364"
      ]
     },
     "metadata": {},
     "output_type": "display_data"
    },
    {
     "data": {
      "text/plain": [
       "6-element Vector{Float64}:\n",
       " 0.8070509912689895\n",
       " 0.8070508888842487\n",
       " 0.8070508359280578\n",
       " 1.0726821756231928\n",
       " 1.0726818097149102\n",
       " 1.0726816078747128"
      ]
     },
     "metadata": {},
     "output_type": "display_data"
    },
    {
     "data": {
      "text/plain": [
       "6-element Vector{Float64}:\n",
       " 0.9112945265333234\n",
       " 0.91129438482196\n",
       " 0.9112943107357239\n",
       " 1.0121885296634838\n",
       " 1.0121881090393146\n",
       " 1.0121878882786075"
      ]
     },
     "metadata": {},
     "output_type": "display_data"
    },
    {
     "data": {
      "text/plain": [
       "6-element Vector{Float64}:\n",
       " 1.00918484165326\n",
       " 1.0091846562795779\n",
       " 1.0091845592543867\n",
       " 0.9456177727352522\n",
       " 0.9456173201130408\n",
       " 0.94561708209465"
      ]
     },
     "metadata": {},
     "output_type": "display_data"
    },
    {
     "data": {
      "text/plain": [
       "6-element Vector{Float64}:\n",
       " 1.1003012549804436\n",
       " 1.100301022638547\n",
       " 1.1003009015586998\n",
       " 0.876710493808416\n",
       " 0.8767100070663436\n",
       " 0.8767097639916109"
      ]
     },
     "metadata": {},
     "output_type": "display_data"
    },
    {
     "data": {
      "text/plain": [
       "6-element Vector{Float64}:\n",
       " 1.184538209098271\n",
       " 1.1845379272529861\n",
       " 1.1845377816870102\n",
       " 0.8080285885481311\n",
       " 0.8080280852224365\n",
       " 0.8080278385745969"
      ]
     },
     "metadata": {},
     "output_type": "display_data"
    },
    {
     "data": {
      "text/plain": [
       "6-element Vector{Float64}:\n",
       " 1.2620036233764658\n",
       " 1.2620032906414034\n",
       " 1.2620031206278028\n",
       " 0.741279697015769\n",
       " 0.7412791825459121\n",
       " 0.7412789402412526"
      ]
     },
     "metadata": {},
     "output_type": "display_data"
    },
    {
     "data": {
      "text/plain": [
       "6-element Vector{Float64}:\n",
       " 1.3329454201546984\n",
       " 1.3329450362606836\n",
       " 1.332944842393682\n",
       " 0.6775562385488794\n",
       " 0.6775557298396908\n",
       " 0.6775554950763324"
      ]
     },
     "metadata": {},
     "output_type": "display_data"
    },
    {
     "data": {
      "text/plain": [
       "6-element Vector{Float64}:\n",
       " 1.3976987879730525\n",
       " 1.3976983534299434\n",
       " 1.3976981370102075\n",
       " 0.6175111178182033\n",
       " 0.6175106135455063\n",
       " 0.6175103972541826"
      ]
     },
     "metadata": {},
     "output_type": "display_data"
    },
    {
     "data": {
      "text/plain": [
       "6-element Vector{Float64}:\n",
       " 1.4566486733191155\n",
       " 1.4566481891883671\n",
       " 1.456647952284567\n",
       " 0.5614865891030565\n",
       " 0.5614861016229645\n",
       " 0.5614859082330043"
      ]
     },
     "metadata": {},
     "output_type": "display_data"
    },
    {
     "data": {
      "text/plain": [
       "6-element Vector{Float64}:\n",
       " 1.5102034262633732\n",
       " 1.5102028944242154\n",
       " 1.5102026394759671\n",
       " 0.5096084697820981\n",
       " 0.5096080030940021\n",
       " 0.509607835594996"
      ]
     },
     "metadata": {},
     "output_type": "display_data"
    },
    {
     "data": {
      "text/plain": [
       "6-element Vector{Float64}:\n",
       " 1.5587765836514667\n",
       " 1.5587760071422894\n",
       " 1.5587757369787432\n",
       " 0.4618546779797702\n",
       " 0.461854251267476\n",
       " 0.46185411446052904"
      ]
     },
     "metadata": {},
     "output_type": "display_data"
    },
    {
     "data": {
      "text/plain": [
       "6-element Vector{Float64}:\n",
       " 1.6027745661708328\n",
       " 1.602773948396006\n",
       " 1.6027736663991385\n",
       " 0.41810497240755523\n",
       " 0.41810457380685284\n",
       " 0.41810447394737815"
      ]
     },
     "metadata": {},
     "output_type": "display_data"
    },
    {
     "data": {
      "text/plain": [
       "6-element Vector{Float64}:\n",
       " 1.6425886453504026\n",
       " 1.6425879898852025\n",
       " 1.642587700302173\n",
       " 0.3781766111838431\n",
       " 0.3781762559770783\n",
       " 0.37817620411330777"
      ]
     },
     "metadata": {},
     "output_type": "display_data"
    },
    {
     "data": {
      "text/plain": [
       "6-element Vector{Float64}:\n",
       " 1.6785899748975905\n",
       " 1.6785892862497882\n",
       " 1.6785889931605864\n",
       " 0.341849979759915\n",
       " 0.3418496713146348\n",
       " 0.34184965305496157"
      ]
     },
     "metadata": {},
     "output_type": "display_data"
    },
    {
     "data": {
      "text/plain": [
       "6-element Vector{Float64}:\n",
       " 1.7111268002657836\n",
       " 1.7111260831168755\n",
       " 1.7111257906914552\n",
       " 0.30888652760394436\n",
       " 0.30888626602711267\n",
       " 0.3088862975624112"
      ]
     },
     "metadata": {},
     "output_type": "display_data"
    },
    {
     "data": {
      "text/plain": [
       "6-element Vector{Float64}:\n",
       " 1.7405231930514187\n",
       " 1.7405224525032994\n",
       " 1.7405221655268879\n",
       " 0.2790413281087595\n",
       " 0.27904112170136813\n",
       " 0.279041199146243"
      ]
     },
     "metadata": {},
     "output_type": "display_data"
    },
    {
     "data": {
      "text/plain": [
       "6-element Vector{Float64}:\n",
       " 1.7670788405055977\n",
       " 1.767078082060853\n",
       " 1.7670778048661557\n",
       " 0.25207162097482066\n",
       " 0.2520714694497027\n",
       " 0.2520715876391118"
      ]
     },
     "metadata": {},
     "output_type": "display_data"
    },
    {
     "data": {
      "text/plain": [
       "6-element Vector{Float64}:\n",
       " 1.7910695424047187\n",
       " 1.7910687718860092\n",
       " 1.7910685083973925\n",
       " 0.2277424170076028\n",
       " 0.22774232705341954\n",
       " 0.2277424829856247"
      ]
     },
     "metadata": {},
     "output_type": "display_data"
    },
    {
     "data": {
      "text/plain": [
       "6-element Vector{Float64}:\n",
       " 1.8127481662565486\n",
       " 1.812747389684751\n",
       " 1.8127471436986398\n",
       " 0.20583006002899304\n",
       " 0.2058300289214173\n",
       " 0.20583022303932327"
      ]
     },
     "metadata": {},
     "output_type": "display_data"
    },
    {
     "data": {
      "text/plain": [
       "6-element Vector{Float64}:\n",
       " 1.832345880046393\n",
       " 1.832345103471327\n",
       " 1.8323448782219165\n",
       " 0.18612421576789556\n",
       " 0.18612424681010317\n",
       " 0.1861244674262113"
      ]
     },
     "metadata": {},
     "output_type": "display_data"
    },
    {
     "data": {
      "text/plain": [
       "6-element Vector{Float64}:\n",
       " 1.8500735324210125\n",
       " 1.850072762236172\n",
       " 1.8500725600770769\n",
       " 0.16842883172449644\n",
       " 0.16842892848679386\n",
       " 0.16842916967699803"
      ]
     },
     "metadata": {},
     "output_type": "display_data"
    },
    {
     "data": {
      "text/plain": [
       "6-element Vector{Float64}:\n",
       " 1.8661230880947945\n",
       " 1.8661223306528136\n",
       " 1.8661221533483685\n",
       " 0.1525622817511481\n",
       " 0.1525624398460432\n",
       " 0.15256269574883385"
      ]
     },
     "metadata": {},
     "output_type": "display_data"
    },
    {
     "data": {
      "text/plain": [
       "6-element Vector{Float64}:\n",
       " 1.8806690483683595\n",
       " 1.8806683101496113\n",
       " 1.88066815862698\n",
       " 0.1383569237201485\n",
       " 0.1383571500899087\n",
       " 0.13835740982339753"
      ]
     },
     "metadata": {},
     "output_type": "display_data"
    },
    {
     "data": {
      "text/plain": [
       "6-element Vector{Float64}:\n",
       " 1.8938698088448458\n",
       " 1.8938690963457485\n",
       " 1.8938689706795504\n",
       " 0.12565828580957641\n",
       " 0.12565857383283638\n",
       " 0.1256588312280108"
      ]
     },
     "metadata": {},
     "output_type": "display_data"
    },
    {
     "data": {
      "text/plain": [
       "6-element Vector{Float64}:\n",
       " 1.9058689137676426\n",
       " 1.9058682329682095\n",
       " 1.9058681325394504\n",
       " 0.11432381264636078\n",
       " 0.11432415861638041\n",
       " 0.11432440596998997"
      ]
     },
     "metadata": {},
     "output_type": "display_data"
    },
    {
     "data": {
      "text/plain": [
       "6-element Vector{Float64}:\n",
       " 1.9167961737247912\n",
       " 1.9167955301212078\n",
       " 1.9167954534774445\n",
       " 0.10422138649660988\n",
       " 0.10422178444358783\n",
       " 0.10422201278989071"
      ]
     },
     "metadata": {},
     "output_type": "display_data"
    },
    {
     "data": {
      "text/plain": [
       "6-element Vector{Float64}:\n",
       " 1.9267686153049102\n",
       " 1.926768014321279\n",
       " 1.926767959258747\n",
       " 0.09522744510577025\n",
       " 0.09522789955783968\n",
       " 0.09522810283615583"
      ]
     },
     "metadata": {},
     "output_type": "display_data"
    },
    {
     "data": {
      "text/plain": [
       "6-element Vector{Float64}:\n",
       " 1.935891227367867\n",
       " 1.9358906740743056\n",
       " 1.9358906378959824\n",
       " 0.08722479615336709\n",
       " 0.0872252955026884\n",
       " 0.08722546990855466"
      ]
     },
     "metadata": {},
     "output_type": "display_data"
    },
    {
     "data": {
      "text/plain": [
       "6-element Vector{Float64}:\n",
       " 1.9442574614102905\n",
       " 1.9442569593892938\n",
       " 1.9442569393946223\n",
       " 0.08009988469510308\n",
       " 0.0801004107970765\n",
       " 0.08010056006424027"
      ]
     },
     "metadata": {},
     "output_type": "display_data"
    },
    {
     "data": {
      "text/plain": [
       "6-element Vector{Float64}:\n",
       " 1.9519494294979898\n",
       " 1.9519489815118447\n",
       " 1.9519489745998306\n",
       " 0.07373947705888205\n",
       " 0.073740031653944\n",
       " 0.0737401440399271"
      ]
     },
     "metadata": {},
     "output_type": "display_data"
    },
    {
     "data": {
      "text/plain": [
       "6-element Vector{Float64}:\n",
       " 1.9590377287213692\n",
       " 1.959037337040132\n",
       " 1.9590373397562306\n",
       " 0.06802650740870378\n",
       " 0.06802707891179642\n",
       " 0.06802715908807278"
      ]
     },
     "metadata": {},
     "output_type": "display_data"
    },
    {
     "data": {
      "text/plain": [
       "6-element Vector{Float64}:\n",
       " 1.9655807915523644\n",
       " 1.9655804570673203\n",
       " 1.965580466192352\n",
       " 0.06283474921120398\n",
       " 0.0628353216319732\n",
       " 0.06283536963435436"
      ]
     },
     "metadata": {},
     "output_type": "display_data"
    },
    {
     "data": {
      "text/plain": [
       "6-element Vector{Float64}:\n",
       " 1.971623624438428\n",
       " 1.97162334650945\n",
       " 1.9716233594424186\n",
       " 0.05802190851006499\n",
       " 0.05802246721062011\n",
       " 0.05802249536697778"
      ]
     },
     "metadata": {},
     "output_type": "display_data"
    },
    {
     "data": {
      "text/plain": [
       "6-element Vector{Float64}:\n",
       " 1.9771957544839696\n",
       " 1.9771955312381913\n",
       " 1.9771955457108703\n",
       " 0.05342069240076777\n",
       " 0.05342122736420902\n",
       " 0.053421230002053136"
      ]
     },
     "metadata": {},
     "output_type": "display_data"
    },
    {
     "data": {
      "text/plain": [
       "6-element Vector{Float64}:\n",
       " 1.9823081313430004\n",
       " 1.9823079601115539\n",
       " 1.9823079736535938\n",
       " 0.048826844779846945\n",
       " 0.048827350103045515\n",
       " 0.0488273288524147"
      ]
     },
     "metadata": {},
     "output_type": "display_data"
    },
    {
     "data": {
      "text/plain": [
       "6-element Vector{Float64}:\n",
       " 1.986948646920436\n",
       " 1.9869485231499633\n",
       " 1.9869485346020639\n",
       " 0.04398346676886357\n",
       " 0.04398391066514346\n",
       " 0.04398389011698867"
      ]
     },
     "metadata": {},
     "output_type": "display_data"
    },
    {
     "data": {
      "text/plain": [
       "6-element Vector{Float64}:\n",
       " 1.991075816514072\n",
       " 1.991075734221168\n",
       " 1.9910757428709713\n",
       " 0.03855992510385898\n",
       " 0.03856031075894938\n",
       " 0.0385602752611609"
      ]
     },
     "metadata": {},
     "output_type": "display_data"
    },
    {
     "data": {
      "text/plain": [
       "6-element Vector{Float64}:\n",
       " 1.9946100006488063\n",
       " 1.9946099525841972\n",
       " 1.9946099581256473\n",
       " 0.032123757590823664\n",
       " 0.0321240565016341\n",
       " 0.03212402983236074"
      ]
     },
     "metadata": {},
     "output_type": "display_data"
    },
    {
     "data": {
      "text/plain": [
       "6-element Vector{Float64}:\n",
       " 1.997421334755172\n",
       " 1.9974213125457114\n",
       " 1.99742131540414\n",
       " 0.024102924536485944\n",
       " 0.02410314272865184\n",
       " 0.02410311573749356"
      ]
     },
     "metadata": {},
     "output_type": "display_data"
    },
    {
     "data": {
      "text/plain": [
       "6-element Vector{Float64}:\n",
       " 1.9993132404909981\n",
       " 1.999313234841072\n",
       " 1.9993132355955074\n",
       " 0.013735190180037502\n",
       " 0.013735303178558282\n",
       " 0.01373528808985307"
      ]
     },
     "metadata": {},
     "output_type": "display_data"
    },
    {
     "data": {
      "text/plain": [
       "6-element Vector{Float64}:\n",
       "  2.0\n",
       "  2.0\n",
       "  2.0\n",
       "  0.0\n",
       " -4.544748035850101e-33\n",
       " -4.125088810753076e-33"
      ]
     },
     "metadata": {},
     "output_type": "display_data"
    }
   ],
   "source": [
    "# states and control sizes \n",
    "nx = 6 \n",
    "nu = 3 \n",
    "\n",
    "dt = 0.1\n",
    "tf = 5.0 \n",
    "t_vec = 0:dt:tf \n",
    "N = length(t_vec)\n",
    "    \n",
    "# LQR cost \n",
    "Q = diagm(ones(nx))\n",
    "R = 0.1*diagm(ones(nu))\n",
    "Qf = 10*diagm(ones(nx))\n",
    "            \n",
    "# initial and goal states \n",
    "xic = [0, 0, 0, 0, 0, 0]\n",
    "xg = [2, 2, 2, 0, 0, 0]\n",
    "\n",
    "# indexing\n",
    "idx = create_idx(nx,nu,N)\n",
    "\n",
    "# load all useful things into params \n",
    "params = (Q = Q, R = R, Qf = Qf, xic = xic, xg = xg, dt = dt, N = N, idx = idx)\n",
    "\n",
    "# Primal bounds\n",
    "x_l = -Inf * ones(idx.nz)\n",
    "x_u =  Inf * ones(idx.nz)\n",
    "\n",
    "# dont exceed 1 m/s² on the acceleration\n",
    "for i = 1 : N - 1\n",
    "    x_l[idx.u[i]] .= -2\n",
    "    x_u[idx.u[i]] .= 2\n",
    "end\n",
    "\n",
    "# inequality constraint bounds\n",
    "# c_l = (0.8 + 0.175)^2 * ones(3 * N)\n",
    "# c_u = Inf * ones(3 * N)\n",
    "c_l = zeros(0)\n",
    "c_u = zeros(0)\n",
    "\n",
    "# initial guess \n",
    "z0 = 0.001*randn(idx.nz)\n",
    "\n",
    "diff_type = :auto \n",
    "\n",
    "Z = fmincon(cost, equality_constraint, inequality_constraint,\n",
    "            x_l,x_u,c_l,c_u,z0,params, diff_type;\n",
    "            tol = 1e-6, c_tol = 1e-6, max_iters = 10_000, verbose = true)\n",
    "\n",
    "# pull the X and U solutions out of Z \n",
    "X = [Z[idx.x[i]] for i = 1:N]\n",
    "U = [Z[idx.u[i]] for i = 1:(N-1)]"
   ]
  },
  {
   "cell_type": "code",
   "execution_count": 110,
   "id": "5ae2e5fd",
   "metadata": {},
   "outputs": [
    {
     "data": {
      "image/svg+xml": [
       "<?xml version=\"1.0\" encoding=\"utf-8\"?>\n",
       "<svg xmlns=\"http://www.w3.org/2000/svg\" xmlns:xlink=\"http://www.w3.org/1999/xlink\" width=\"600\" height=\"400\" viewBox=\"0 0 2400 1600\">\n",
       "<defs>\n",
       "  <clipPath id=\"clip640\">\n",
       "    <rect x=\"0\" y=\"0\" width=\"2400\" height=\"1600\"/>\n",
       "  </clipPath>\n",
       "</defs>\n",
       "<path clip-path=\"url(#clip640)\" d=\"M0 1600 L2400 1600 L2400 0 L0 0  Z\" fill=\"#ffffff\" fill-rule=\"evenodd\" fill-opacity=\"1\"/>\n",
       "<defs>\n",
       "  <clipPath id=\"clip641\">\n",
       "    <rect x=\"480\" y=\"0\" width=\"1681\" height=\"1600\"/>\n",
       "  </clipPath>\n",
       "</defs>\n",
       "<path clip-path=\"url(#clip640)\" d=\"M156.112 1423.18 L2352.76 1423.18 L2352.76 123.472 L156.112 123.472  Z\" fill=\"#ffffff\" fill-rule=\"evenodd\" fill-opacity=\"1\"/>\n",
       "<defs>\n",
       "  <clipPath id=\"clip642\">\n",
       "    <rect x=\"156\" y=\"123\" width=\"2198\" height=\"1301\"/>\n",
       "  </clipPath>\n",
       "</defs>\n",
       "<polyline clip-path=\"url(#clip642)\" style=\"stroke:#000000; stroke-linecap:round; stroke-linejoin:round; stroke-width:2; stroke-opacity:0.1; fill:none\" points=\"218.281,1423.18 218.281,123.472 \"/>\n",
       "<polyline clip-path=\"url(#clip642)\" style=\"stroke:#000000; stroke-linecap:round; stroke-linejoin:round; stroke-width:2; stroke-opacity:0.1; fill:none\" points=\"632.742,1423.18 632.742,123.472 \"/>\n",
       "<polyline clip-path=\"url(#clip642)\" style=\"stroke:#000000; stroke-linecap:round; stroke-linejoin:round; stroke-width:2; stroke-opacity:0.1; fill:none\" points=\"1047.2,1423.18 1047.2,123.472 \"/>\n",
       "<polyline clip-path=\"url(#clip642)\" style=\"stroke:#000000; stroke-linecap:round; stroke-linejoin:round; stroke-width:2; stroke-opacity:0.1; fill:none\" points=\"1461.66,1423.18 1461.66,123.472 \"/>\n",
       "<polyline clip-path=\"url(#clip642)\" style=\"stroke:#000000; stroke-linecap:round; stroke-linejoin:round; stroke-width:2; stroke-opacity:0.1; fill:none\" points=\"1876.13,1423.18 1876.13,123.472 \"/>\n",
       "<polyline clip-path=\"url(#clip642)\" style=\"stroke:#000000; stroke-linecap:round; stroke-linejoin:round; stroke-width:2; stroke-opacity:0.1; fill:none\" points=\"2290.59,1423.18 2290.59,123.472 \"/>\n",
       "<polyline clip-path=\"url(#clip640)\" style=\"stroke:#000000; stroke-linecap:round; stroke-linejoin:round; stroke-width:4; stroke-opacity:1; fill:none\" points=\"156.112,1423.18 2352.76,1423.18 \"/>\n",
       "<polyline clip-path=\"url(#clip640)\" style=\"stroke:#000000; stroke-linecap:round; stroke-linejoin:round; stroke-width:4; stroke-opacity:1; fill:none\" points=\"218.281,1423.18 218.281,1404.28 \"/>\n",
       "<polyline clip-path=\"url(#clip640)\" style=\"stroke:#000000; stroke-linecap:round; stroke-linejoin:round; stroke-width:4; stroke-opacity:1; fill:none\" points=\"632.742,1423.18 632.742,1404.28 \"/>\n",
       "<polyline clip-path=\"url(#clip640)\" style=\"stroke:#000000; stroke-linecap:round; stroke-linejoin:round; stroke-width:4; stroke-opacity:1; fill:none\" points=\"1047.2,1423.18 1047.2,1404.28 \"/>\n",
       "<polyline clip-path=\"url(#clip640)\" style=\"stroke:#000000; stroke-linecap:round; stroke-linejoin:round; stroke-width:4; stroke-opacity:1; fill:none\" points=\"1461.66,1423.18 1461.66,1404.28 \"/>\n",
       "<polyline clip-path=\"url(#clip640)\" style=\"stroke:#000000; stroke-linecap:round; stroke-linejoin:round; stroke-width:4; stroke-opacity:1; fill:none\" points=\"1876.13,1423.18 1876.13,1404.28 \"/>\n",
       "<polyline clip-path=\"url(#clip640)\" style=\"stroke:#000000; stroke-linecap:round; stroke-linejoin:round; stroke-width:4; stroke-opacity:1; fill:none\" points=\"2290.59,1423.18 2290.59,1404.28 \"/>\n",
       "<path clip-path=\"url(#clip640)\" d=\"M218.281 1454.1 Q214.67 1454.1 212.842 1457.66 Q211.036 1461.2 211.036 1468.33 Q211.036 1475.44 212.842 1479.01 Q214.67 1482.55 218.281 1482.55 Q221.916 1482.55 223.721 1479.01 Q225.55 1475.44 225.55 1468.33 Q225.55 1461.2 223.721 1457.66 Q221.916 1454.1 218.281 1454.1 M218.281 1450.39 Q224.091 1450.39 227.147 1455 Q230.226 1459.58 230.226 1468.33 Q230.226 1477.06 227.147 1481.67 Q224.091 1486.25 218.281 1486.25 Q212.471 1486.25 209.392 1481.67 Q206.337 1477.06 206.337 1468.33 Q206.337 1459.58 209.392 1455 Q212.471 1450.39 218.281 1450.39 Z\" fill=\"#000000\" fill-rule=\"nonzero\" fill-opacity=\"1\" /><path clip-path=\"url(#clip640)\" d=\"M623.124 1481.64 L630.763 1481.64 L630.763 1455.28 L622.453 1456.95 L622.453 1452.69 L630.717 1451.02 L635.393 1451.02 L635.393 1481.64 L643.032 1481.64 L643.032 1485.58 L623.124 1485.58 L623.124 1481.64 Z\" fill=\"#000000\" fill-rule=\"nonzero\" fill-opacity=\"1\" /><path clip-path=\"url(#clip640)\" d=\"M1041.86 1481.64 L1058.18 1481.64 L1058.18 1485.58 L1036.23 1485.58 L1036.23 1481.64 Q1038.89 1478.89 1043.48 1474.26 Q1048.08 1469.61 1049.26 1468.27 Q1051.51 1465.74 1052.39 1464.01 Q1053.29 1462.25 1053.29 1460.56 Q1053.29 1457.8 1051.35 1456.07 Q1049.43 1454.33 1046.32 1454.33 Q1044.12 1454.33 1041.67 1455.09 Q1039.24 1455.86 1036.46 1457.41 L1036.46 1452.69 Q1039.29 1451.55 1041.74 1450.97 Q1044.19 1450.39 1046.23 1450.39 Q1051.6 1450.39 1054.8 1453.08 Q1057.99 1455.77 1057.99 1460.26 Q1057.99 1462.39 1057.18 1464.31 Q1056.39 1466.2 1054.29 1468.8 Q1053.71 1469.47 1050.61 1472.69 Q1047.5 1475.88 1041.86 1481.64 Z\" fill=\"#000000\" fill-rule=\"nonzero\" fill-opacity=\"1\" /><path clip-path=\"url(#clip640)\" d=\"M1465.91 1466.95 Q1469.27 1467.66 1471.14 1469.93 Q1473.04 1472.2 1473.04 1475.53 Q1473.04 1480.65 1469.52 1483.45 Q1466 1486.25 1459.52 1486.25 Q1457.35 1486.25 1455.03 1485.81 Q1452.74 1485.39 1450.29 1484.54 L1450.29 1480.02 Q1452.23 1481.16 1454.55 1481.74 Q1456.86 1482.32 1459.38 1482.32 Q1463.78 1482.32 1466.07 1480.58 Q1468.39 1478.84 1468.39 1475.53 Q1468.39 1472.48 1466.24 1470.77 Q1464.11 1469.03 1460.29 1469.03 L1456.26 1469.03 L1456.26 1465.19 L1460.47 1465.19 Q1463.92 1465.19 1465.75 1463.82 Q1467.58 1462.43 1467.58 1459.84 Q1467.58 1457.18 1465.68 1455.77 Q1463.81 1454.33 1460.29 1454.33 Q1458.37 1454.33 1456.17 1454.75 Q1453.97 1455.16 1451.33 1456.04 L1451.33 1451.88 Q1453.99 1451.14 1456.31 1450.77 Q1458.64 1450.39 1460.7 1450.39 Q1466.03 1450.39 1469.13 1452.83 Q1472.23 1455.23 1472.23 1459.35 Q1472.23 1462.22 1470.59 1464.21 Q1468.94 1466.18 1465.91 1466.95 Z\" fill=\"#000000\" fill-rule=\"nonzero\" fill-opacity=\"1\" /><path clip-path=\"url(#clip640)\" d=\"M1879.13 1455.09 L1867.33 1473.54 L1879.13 1473.54 L1879.13 1455.09 M1877.91 1451.02 L1883.79 1451.02 L1883.79 1473.54 L1888.72 1473.54 L1888.72 1477.43 L1883.79 1477.43 L1883.79 1485.58 L1879.13 1485.58 L1879.13 1477.43 L1863.53 1477.43 L1863.53 1472.92 L1877.91 1451.02 Z\" fill=\"#000000\" fill-rule=\"nonzero\" fill-opacity=\"1\" /><path clip-path=\"url(#clip640)\" d=\"M2280.86 1451.02 L2299.22 1451.02 L2299.22 1454.96 L2285.15 1454.96 L2285.15 1463.43 Q2286.17 1463.08 2287.18 1462.92 Q2288.2 1462.73 2289.22 1462.73 Q2295.01 1462.73 2298.39 1465.9 Q2301.77 1469.08 2301.77 1474.49 Q2301.77 1480.07 2298.3 1483.17 Q2294.82 1486.25 2288.5 1486.25 Q2286.33 1486.25 2284.06 1485.88 Q2281.81 1485.51 2279.41 1484.77 L2279.41 1480.07 Q2281.49 1481.2 2283.71 1481.76 Q2285.93 1482.32 2288.41 1482.32 Q2292.42 1482.32 2294.75 1480.21 Q2297.09 1478.1 2297.09 1474.49 Q2297.09 1470.88 2294.75 1468.77 Q2292.42 1466.67 2288.41 1466.67 Q2286.54 1466.67 2284.66 1467.08 Q2282.81 1467.5 2280.86 1468.38 L2280.86 1451.02 Z\" fill=\"#000000\" fill-rule=\"nonzero\" fill-opacity=\"1\" /><path clip-path=\"url(#clip640)\" d=\"M1141.89 1522.27 L1141.89 1532.4 L1153.95 1532.4 L1153.95 1536.95 L1141.89 1536.95 L1141.89 1556.3 Q1141.89 1560.66 1143.07 1561.9 Q1144.28 1563.14 1147.94 1563.14 L1153.95 1563.14 L1153.95 1568.04 L1147.94 1568.04 Q1141.16 1568.04 1138.58 1565.53 Q1136 1562.98 1136 1556.3 L1136 1536.95 L1131.7 1536.95 L1131.7 1532.4 L1136 1532.4 L1136 1522.27 L1141.89 1522.27 Z\" fill=\"#000000\" fill-rule=\"nonzero\" fill-opacity=\"1\" /><path clip-path=\"url(#clip640)\" d=\"M1161.65 1532.4 L1167.51 1532.4 L1167.51 1568.04 L1161.65 1568.04 L1161.65 1532.4 M1161.65 1518.52 L1167.51 1518.52 L1167.51 1525.93 L1161.65 1525.93 L1161.65 1518.52 Z\" fill=\"#000000\" fill-rule=\"nonzero\" fill-opacity=\"1\" /><path clip-path=\"url(#clip640)\" d=\"M1207.52 1539.24 Q1209.71 1535.29 1212.77 1533.41 Q1215.83 1531.54 1219.96 1531.54 Q1225.53 1531.54 1228.56 1535.45 Q1231.58 1539.33 1231.58 1546.53 L1231.58 1568.04 L1225.69 1568.04 L1225.69 1546.72 Q1225.69 1541.59 1223.88 1539.11 Q1222.06 1536.63 1218.34 1536.63 Q1213.79 1536.63 1211.15 1539.65 Q1208.51 1542.68 1208.51 1547.9 L1208.51 1568.04 L1202.62 1568.04 L1202.62 1546.72 Q1202.62 1541.56 1200.8 1539.11 Q1198.99 1536.63 1195.2 1536.63 Q1190.71 1536.63 1188.07 1539.68 Q1185.43 1542.71 1185.43 1547.9 L1185.43 1568.04 L1179.54 1568.04 L1179.54 1532.4 L1185.43 1532.4 L1185.43 1537.93 Q1187.43 1534.66 1190.24 1533.1 Q1193.04 1531.54 1196.89 1531.54 Q1200.77 1531.54 1203.48 1533.51 Q1206.21 1535.48 1207.52 1539.24 Z\" fill=\"#000000\" fill-rule=\"nonzero\" fill-opacity=\"1\" /><path clip-path=\"url(#clip640)\" d=\"M1273.75 1548.76 L1273.75 1551.62 L1246.83 1551.62 Q1247.21 1557.67 1250.46 1560.85 Q1253.73 1564 1259.56 1564 Q1262.93 1564 1266.08 1563.17 Q1269.27 1562.35 1272.39 1560.69 L1272.39 1566.23 Q1269.23 1567.57 1265.92 1568.27 Q1262.61 1568.97 1259.21 1568.97 Q1250.68 1568.97 1245.68 1564 Q1240.72 1559.04 1240.72 1550.57 Q1240.72 1541.82 1245.43 1536.69 Q1250.17 1531.54 1258.19 1531.54 Q1265.38 1531.54 1269.55 1536.18 Q1273.75 1540.8 1273.75 1548.76 M1267.9 1547.04 Q1267.83 1542.23 1265.19 1539.37 Q1262.58 1536.5 1258.25 1536.5 Q1253.35 1536.5 1250.39 1539.27 Q1247.46 1542.04 1247.02 1547.07 L1267.9 1547.04 Z\" fill=\"#000000\" fill-rule=\"nonzero\" fill-opacity=\"1\" /><path clip-path=\"url(#clip640)\" d=\"M1318.15 1518.58 Q1313.89 1525.9 1311.82 1533.06 Q1309.75 1540.23 1309.75 1547.58 Q1309.75 1554.93 1311.82 1562.16 Q1313.92 1569.35 1318.15 1576.64 L1313.06 1576.64 Q1308.29 1569.16 1305.9 1561.93 Q1303.55 1554.71 1303.55 1547.58 Q1303.55 1540.48 1305.9 1533.29 Q1308.26 1526.09 1313.06 1518.58 L1318.15 1518.58 Z\" fill=\"#000000\" fill-rule=\"nonzero\" fill-opacity=\"1\" /><path clip-path=\"url(#clip640)\" d=\"M1352.24 1533.45 L1352.24 1538.98 Q1349.76 1537.71 1347.09 1537.07 Q1344.41 1536.44 1341.55 1536.44 Q1337.19 1536.44 1334.99 1537.77 Q1332.83 1539.11 1332.83 1541.79 Q1332.83 1543.82 1334.39 1545 Q1335.95 1546.15 1340.66 1547.2 L1342.66 1547.64 Q1348.9 1548.98 1351.51 1551.43 Q1354.15 1553.85 1354.15 1558.21 Q1354.15 1563.17 1350.21 1566.07 Q1346.29 1568.97 1339.42 1568.97 Q1336.55 1568.97 1333.43 1568.39 Q1330.35 1567.85 1326.91 1566.74 L1326.91 1560.69 Q1330.15 1562.38 1333.31 1563.24 Q1336.46 1564.07 1339.54 1564.07 Q1343.68 1564.07 1345.91 1562.66 Q1348.14 1561.23 1348.14 1558.65 Q1348.14 1556.27 1346.51 1554.99 Q1344.92 1553.72 1339.48 1552.54 L1337.44 1552.07 Q1332 1550.92 1329.58 1548.56 Q1327.16 1546.18 1327.16 1542.04 Q1327.16 1537.01 1330.73 1534.27 Q1334.29 1531.54 1340.85 1531.54 Q1344.09 1531.54 1346.96 1532.01 Q1349.82 1532.49 1352.24 1533.45 Z\" fill=\"#000000\" fill-rule=\"nonzero\" fill-opacity=\"1\" /><path clip-path=\"url(#clip640)\" d=\"M1362.56 1518.58 L1367.65 1518.58 Q1372.42 1526.09 1374.78 1533.29 Q1377.16 1540.48 1377.16 1547.58 Q1377.16 1554.71 1374.78 1561.93 Q1372.42 1569.16 1367.65 1576.64 L1362.56 1576.64 Q1366.79 1569.35 1368.86 1562.16 Q1370.96 1554.93 1370.96 1547.58 Q1370.96 1540.23 1368.86 1533.06 Q1366.79 1525.9 1362.56 1518.58 Z\" fill=\"#000000\" fill-rule=\"nonzero\" fill-opacity=\"1\" /><polyline clip-path=\"url(#clip642)\" style=\"stroke:#000000; stroke-linecap:round; stroke-linejoin:round; stroke-width:2; stroke-opacity:0.1; fill:none\" points=\"156.112,1323.44 2352.76,1323.44 \"/>\n",
       "<polyline clip-path=\"url(#clip642)\" style=\"stroke:#000000; stroke-linecap:round; stroke-linejoin:round; stroke-width:2; stroke-opacity:0.1; fill:none\" points=\"156.112,1032.64 2352.76,1032.64 \"/>\n",
       "<polyline clip-path=\"url(#clip642)\" style=\"stroke:#000000; stroke-linecap:round; stroke-linejoin:round; stroke-width:2; stroke-opacity:0.1; fill:none\" points=\"156.112,741.848 2352.76,741.848 \"/>\n",
       "<polyline clip-path=\"url(#clip642)\" style=\"stroke:#000000; stroke-linecap:round; stroke-linejoin:round; stroke-width:2; stroke-opacity:0.1; fill:none\" points=\"156.112,451.052 2352.76,451.052 \"/>\n",
       "<polyline clip-path=\"url(#clip642)\" style=\"stroke:#000000; stroke-linecap:round; stroke-linejoin:round; stroke-width:2; stroke-opacity:0.1; fill:none\" points=\"156.112,160.256 2352.76,160.256 \"/>\n",
       "<polyline clip-path=\"url(#clip640)\" style=\"stroke:#000000; stroke-linecap:round; stroke-linejoin:round; stroke-width:4; stroke-opacity:1; fill:none\" points=\"156.112,1423.18 156.112,123.472 \"/>\n",
       "<polyline clip-path=\"url(#clip640)\" style=\"stroke:#000000; stroke-linecap:round; stroke-linejoin:round; stroke-width:4; stroke-opacity:1; fill:none\" points=\"156.112,1323.44 175.01,1323.44 \"/>\n",
       "<polyline clip-path=\"url(#clip640)\" style=\"stroke:#000000; stroke-linecap:round; stroke-linejoin:round; stroke-width:4; stroke-opacity:1; fill:none\" points=\"156.112,1032.64 175.01,1032.64 \"/>\n",
       "<polyline clip-path=\"url(#clip640)\" style=\"stroke:#000000; stroke-linecap:round; stroke-linejoin:round; stroke-width:4; stroke-opacity:1; fill:none\" points=\"156.112,741.848 175.01,741.848 \"/>\n",
       "<polyline clip-path=\"url(#clip640)\" style=\"stroke:#000000; stroke-linecap:round; stroke-linejoin:round; stroke-width:4; stroke-opacity:1; fill:none\" points=\"156.112,451.052 175.01,451.052 \"/>\n",
       "<polyline clip-path=\"url(#clip640)\" style=\"stroke:#000000; stroke-linecap:round; stroke-linejoin:round; stroke-width:4; stroke-opacity:1; fill:none\" points=\"156.112,160.256 175.01,160.256 \"/>\n",
       "<path clip-path=\"url(#clip640)\" d=\"M62.9365 1309.24 Q59.3254 1309.24 57.4967 1312.8 Q55.6912 1316.35 55.6912 1323.48 Q55.6912 1330.58 57.4967 1334.15 Q59.3254 1337.69 62.9365 1337.69 Q66.5707 1337.69 68.3763 1334.15 Q70.205 1330.58 70.205 1323.48 Q70.205 1316.35 68.3763 1312.8 Q66.5707 1309.24 62.9365 1309.24 M62.9365 1305.54 Q68.7467 1305.54 71.8022 1310.14 Q74.8809 1314.73 74.8809 1323.48 Q74.8809 1332.2 71.8022 1336.81 Q68.7467 1341.39 62.9365 1341.39 Q57.1264 1341.39 54.0477 1336.81 Q50.9921 1332.2 50.9921 1323.48 Q50.9921 1314.73 54.0477 1310.14 Q57.1264 1305.54 62.9365 1305.54 Z\" fill=\"#000000\" fill-rule=\"nonzero\" fill-opacity=\"1\" /><path clip-path=\"url(#clip640)\" d=\"M83.0984 1334.84 L87.9827 1334.84 L87.9827 1340.72 L83.0984 1340.72 L83.0984 1334.84 Z\" fill=\"#000000\" fill-rule=\"nonzero\" fill-opacity=\"1\" /><path clip-path=\"url(#clip640)\" d=\"M108.168 1309.24 Q104.557 1309.24 102.728 1312.8 Q100.922 1316.35 100.922 1323.48 Q100.922 1330.58 102.728 1334.15 Q104.557 1337.69 108.168 1337.69 Q111.802 1337.69 113.608 1334.15 Q115.436 1330.58 115.436 1323.48 Q115.436 1316.35 113.608 1312.8 Q111.802 1309.24 108.168 1309.24 M108.168 1305.54 Q113.978 1305.54 117.033 1310.14 Q120.112 1314.73 120.112 1323.48 Q120.112 1332.2 117.033 1336.81 Q113.978 1341.39 108.168 1341.39 Q102.358 1341.39 99.2789 1336.81 Q96.2234 1332.2 96.2234 1323.48 Q96.2234 1314.73 99.2789 1310.14 Q102.358 1305.54 108.168 1305.54 Z\" fill=\"#000000\" fill-rule=\"nonzero\" fill-opacity=\"1\" /><path clip-path=\"url(#clip640)\" d=\"M63.9319 1018.44 Q60.3208 1018.44 58.4921 1022.01 Q56.6865 1025.55 56.6865 1032.68 Q56.6865 1039.79 58.4921 1043.35 Q60.3208 1046.89 63.9319 1046.89 Q67.5661 1046.89 69.3717 1043.35 Q71.2004 1039.79 71.2004 1032.68 Q71.2004 1025.55 69.3717 1022.01 Q67.5661 1018.44 63.9319 1018.44 M63.9319 1014.74 Q69.742 1014.74 72.7976 1019.35 Q75.8763 1023.93 75.8763 1032.68 Q75.8763 1041.41 72.7976 1046.01 Q69.742 1050.6 63.9319 1050.6 Q58.1217 1050.6 55.043 1046.01 Q51.9875 1041.41 51.9875 1032.68 Q51.9875 1023.93 55.043 1019.35 Q58.1217 1014.74 63.9319 1014.74 Z\" fill=\"#000000\" fill-rule=\"nonzero\" fill-opacity=\"1\" /><path clip-path=\"url(#clip640)\" d=\"M84.0938 1044.04 L88.978 1044.04 L88.978 1049.92 L84.0938 1049.92 L84.0938 1044.04 Z\" fill=\"#000000\" fill-rule=\"nonzero\" fill-opacity=\"1\" /><path clip-path=\"url(#clip640)\" d=\"M99.2095 1015.36 L117.566 1015.36 L117.566 1019.3 L103.492 1019.3 L103.492 1027.77 Q104.51 1027.42 105.529 1027.26 Q106.547 1027.08 107.566 1027.08 Q113.353 1027.08 116.733 1030.25 Q120.112 1033.42 120.112 1038.84 Q120.112 1044.42 116.64 1047.52 Q113.168 1050.6 106.848 1050.6 Q104.672 1050.6 102.404 1050.23 Q100.159 1049.86 97.7511 1049.11 L97.7511 1044.42 Q99.8345 1045.55 102.057 1046.11 Q104.279 1046.66 106.756 1046.66 Q110.76 1046.66 113.098 1044.55 Q115.436 1042.45 115.436 1038.84 Q115.436 1035.23 113.098 1033.12 Q110.76 1031.01 106.756 1031.01 Q104.881 1031.01 103.006 1031.43 Q101.154 1031.85 99.2095 1032.73 L99.2095 1015.36 Z\" fill=\"#000000\" fill-rule=\"nonzero\" fill-opacity=\"1\" /><path clip-path=\"url(#clip640)\" d=\"M53.7467 755.193 L61.3856 755.193 L61.3856 728.828 L53.0754 730.494 L53.0754 726.235 L61.3393 724.568 L66.0152 724.568 L66.0152 755.193 L73.654 755.193 L73.654 759.128 L53.7467 759.128 L53.7467 755.193 Z\" fill=\"#000000\" fill-rule=\"nonzero\" fill-opacity=\"1\" /><path clip-path=\"url(#clip640)\" d=\"M83.0984 753.249 L87.9827 753.249 L87.9827 759.128 L83.0984 759.128 L83.0984 753.249 Z\" fill=\"#000000\" fill-rule=\"nonzero\" fill-opacity=\"1\" /><path clip-path=\"url(#clip640)\" d=\"M108.168 727.647 Q104.557 727.647 102.728 731.212 Q100.922 734.754 100.922 741.883 Q100.922 748.99 102.728 752.554 Q104.557 756.096 108.168 756.096 Q111.802 756.096 113.608 752.554 Q115.436 748.99 115.436 741.883 Q115.436 734.754 113.608 731.212 Q111.802 727.647 108.168 727.647 M108.168 723.943 Q113.978 723.943 117.033 728.55 Q120.112 733.133 120.112 741.883 Q120.112 750.61 117.033 755.216 Q113.978 759.8 108.168 759.8 Q102.358 759.8 99.2789 755.216 Q96.2234 750.61 96.2234 741.883 Q96.2234 733.133 99.2789 728.55 Q102.358 723.943 108.168 723.943 Z\" fill=\"#000000\" fill-rule=\"nonzero\" fill-opacity=\"1\" /><path clip-path=\"url(#clip640)\" d=\"M54.7421 464.397 L62.381 464.397 L62.381 438.032 L54.0708 439.698 L54.0708 435.439 L62.3347 433.772 L67.0106 433.772 L67.0106 464.397 L74.6494 464.397 L74.6494 468.332 L54.7421 468.332 L54.7421 464.397 Z\" fill=\"#000000\" fill-rule=\"nonzero\" fill-opacity=\"1\" /><path clip-path=\"url(#clip640)\" d=\"M84.0938 462.453 L88.978 462.453 L88.978 468.332 L84.0938 468.332 L84.0938 462.453 Z\" fill=\"#000000\" fill-rule=\"nonzero\" fill-opacity=\"1\" /><path clip-path=\"url(#clip640)\" d=\"M99.2095 433.772 L117.566 433.772 L117.566 437.708 L103.492 437.708 L103.492 446.18 Q104.51 445.833 105.529 445.67 Q106.547 445.485 107.566 445.485 Q113.353 445.485 116.733 448.657 Q120.112 451.828 120.112 457.244 Q120.112 462.823 116.64 465.925 Q113.168 469.004 106.848 469.004 Q104.672 469.004 102.404 468.633 Q100.159 468.263 97.7511 467.522 L97.7511 462.823 Q99.8345 463.957 102.057 464.513 Q104.279 465.069 106.756 465.069 Q110.76 465.069 113.098 462.962 Q115.436 460.856 115.436 457.244 Q115.436 453.633 113.098 451.527 Q110.76 449.42 106.756 449.42 Q104.881 449.42 103.006 449.837 Q101.154 450.254 99.2095 451.133 L99.2095 433.772 Z\" fill=\"#000000\" fill-rule=\"nonzero\" fill-opacity=\"1\" /><path clip-path=\"url(#clip640)\" d=\"M56.9643 173.601 L73.2837 173.601 L73.2837 177.536 L51.3393 177.536 L51.3393 173.601 Q54.0014 170.847 58.5847 166.217 Q63.1911 161.564 64.3717 160.222 Q66.617 157.698 67.4967 155.962 Q68.3994 154.203 68.3994 152.513 Q68.3994 149.759 66.455 148.023 Q64.5337 146.286 61.4319 146.286 Q59.2328 146.286 56.7791 147.05 Q54.3486 147.814 51.5708 149.365 L51.5708 144.643 Q54.3949 143.509 56.8486 142.93 Q59.3023 142.351 61.3393 142.351 Q66.7096 142.351 69.9041 145.036 Q73.0985 147.722 73.0985 152.212 Q73.0985 154.342 72.2883 156.263 Q71.5013 158.161 69.3948 160.754 Q68.8161 161.425 65.7143 164.643 Q62.6124 167.837 56.9643 173.601 Z\" fill=\"#000000\" fill-rule=\"nonzero\" fill-opacity=\"1\" /><path clip-path=\"url(#clip640)\" d=\"M83.0984 171.657 L87.9827 171.657 L87.9827 177.536 L83.0984 177.536 L83.0984 171.657 Z\" fill=\"#000000\" fill-rule=\"nonzero\" fill-opacity=\"1\" /><path clip-path=\"url(#clip640)\" d=\"M108.168 146.055 Q104.557 146.055 102.728 149.62 Q100.922 153.161 100.922 160.291 Q100.922 167.397 102.728 170.962 Q104.557 174.504 108.168 174.504 Q111.802 174.504 113.608 170.962 Q115.436 167.397 115.436 160.291 Q115.436 153.161 113.608 149.62 Q111.802 146.055 108.168 146.055 M108.168 142.351 Q113.978 142.351 117.033 146.958 Q120.112 151.541 120.112 160.291 Q120.112 169.018 117.033 173.624 Q113.978 178.208 108.168 178.208 Q102.358 178.208 99.2789 173.624 Q96.2234 169.018 96.2234 160.291 Q96.2234 151.541 99.2789 146.958 Q102.358 142.351 108.168 142.351 Z\" fill=\"#000000\" fill-rule=\"nonzero\" fill-opacity=\"1\" /><path clip-path=\"url(#clip640)\" d=\"M969.534 14.0809 L969.534 22.0612 Q964.875 19.8332 960.743 18.7395 Q956.612 17.6457 952.763 17.6457 Q946.079 17.6457 942.433 20.2383 Q938.828 22.8309 938.828 27.611 Q938.828 31.6214 941.218 33.6873 Q943.649 35.7128 950.373 36.9686 L955.315 37.9813 Q964.47 39.7232 968.805 44.1387 Q973.18 48.5136 973.18 55.8863 Q973.18 64.6767 967.265 69.2137 Q961.392 73.7508 950.009 73.7508 Q945.715 73.7508 940.854 72.7785 Q936.033 71.8063 930.848 69.9024 L930.848 61.4765 Q935.83 64.2716 940.61 65.6895 Q945.391 67.1073 950.009 67.1073 Q957.017 67.1073 960.824 64.3527 Q964.632 61.598 964.632 56.4939 Q964.632 52.0379 961.878 49.5264 Q959.164 47.0148 952.925 45.759 L947.943 44.7868 Q938.788 42.9639 934.696 39.075 Q930.605 35.1862 930.605 28.2591 Q930.605 20.2383 936.235 15.6203 Q941.907 11.0023 951.831 11.0023 Q956.085 11.0023 960.5 11.7719 Q964.916 12.5416 969.534 14.0809 Z\" fill=\"#000000\" fill-rule=\"nonzero\" fill-opacity=\"1\" /><path clip-path=\"url(#clip640)\" d=\"M992.989 14.324 L992.989 27.2059 L1008.34 27.2059 L1008.34 32.9987 L992.989 32.9987 L992.989 57.6282 Q992.989 63.1779 994.487 64.7578 Q996.027 66.3376 1000.69 66.3376 L1008.34 66.3376 L1008.34 72.576 L1000.69 72.576 Q992.057 72.576 988.776 69.3758 Q985.494 66.1351 985.494 57.6282 L985.494 32.9987 L980.026 32.9987 L980.026 27.2059 L985.494 27.2059 L985.494 14.324 L992.989 14.324 Z\" fill=\"#000000\" fill-rule=\"nonzero\" fill-opacity=\"1\" /><path clip-path=\"url(#clip640)\" d=\"M1038.76 49.7694 Q1029.73 49.7694 1026.25 51.8354 Q1022.76 53.9013 1022.76 58.8839 Q1022.76 62.8538 1025.36 65.2034 Q1027.99 67.5124 1032.48 67.5124 Q1038.68 67.5124 1042.41 63.1374 Q1046.18 58.7219 1046.18 51.4303 L1046.18 49.7694 L1038.76 49.7694 M1053.63 46.6907 L1053.63 72.576 L1046.18 72.576 L1046.18 65.6895 Q1043.62 69.8214 1039.82 71.8063 Q1036.01 73.7508 1030.5 73.7508 Q1023.53 73.7508 1019.4 69.8619 Q1015.31 65.9325 1015.31 59.3701 Q1015.31 51.7138 1020.41 47.825 Q1025.56 43.9361 1035.73 43.9361 L1046.18 43.9361 L1046.18 43.2069 Q1046.18 38.0623 1042.77 35.2672 Q1039.41 32.4315 1033.3 32.4315 Q1029.41 32.4315 1025.72 33.3632 Q1022.03 34.295 1018.63 36.1584 L1018.63 29.2718 Q1022.72 27.692 1026.57 26.9223 Q1030.42 26.1121 1034.06 26.1121 Q1043.91 26.1121 1048.77 31.2163 Q1053.63 36.3204 1053.63 46.6907 Z\" fill=\"#000000\" fill-rule=\"nonzero\" fill-opacity=\"1\" /><path clip-path=\"url(#clip640)\" d=\"M1076.36 14.324 L1076.36 27.2059 L1091.71 27.2059 L1091.71 32.9987 L1076.36 32.9987 L1076.36 57.6282 Q1076.36 63.1779 1077.86 64.7578 Q1079.39 66.3376 1084.05 66.3376 L1091.71 66.3376 L1091.71 72.576 L1084.05 72.576 Q1075.42 72.576 1072.14 69.3758 Q1068.86 66.1351 1068.86 57.6282 L1068.86 32.9987 L1063.39 32.9987 L1063.39 27.2059 L1068.86 27.2059 L1068.86 14.324 L1076.36 14.324 Z\" fill=\"#000000\" fill-rule=\"nonzero\" fill-opacity=\"1\" /><path clip-path=\"url(#clip640)\" d=\"M1140.32 48.0275 L1140.32 51.6733 L1106.05 51.6733 Q1106.54 59.3701 1110.67 63.421 Q1114.84 67.4314 1122.25 67.4314 Q1126.55 67.4314 1130.56 66.3781 Q1134.61 65.3249 1138.58 63.2184 L1138.58 70.267 Q1134.57 71.9684 1130.35 72.8596 Q1126.14 73.7508 1121.81 73.7508 Q1110.95 73.7508 1104.59 67.4314 Q1098.27 61.1119 1098.27 50.3365 Q1098.27 39.1965 1104.27 32.6746 Q1110.3 26.1121 1120.51 26.1121 Q1129.67 26.1121 1134.97 32.0264 Q1140.32 37.9003 1140.32 48.0275 M1132.87 45.84 Q1132.79 39.7232 1129.42 36.0774 Q1126.1 32.4315 1120.59 32.4315 Q1114.35 32.4315 1110.59 35.9558 Q1106.86 39.4801 1106.29 45.8805 L1132.87 45.84 Z\" fill=\"#000000\" fill-rule=\"nonzero\" fill-opacity=\"1\" /><path clip-path=\"url(#clip640)\" d=\"M1170.86 12.096 L1222.03 12.096 L1222.03 18.9825 L1200.56 18.9825 L1200.56 72.576 L1192.33 72.576 L1192.33 18.9825 L1170.86 18.9825 L1170.86 12.096 Z\" fill=\"#000000\" fill-rule=\"nonzero\" fill-opacity=\"1\" /><path clip-path=\"url(#clip640)\" d=\"M1243.7 34.1734 Q1242.44 33.4443 1240.94 33.1202 Q1239.49 32.7556 1237.7 32.7556 Q1231.38 32.7556 1227.98 36.8875 Q1224.62 40.9789 1224.62 48.6757 L1224.62 72.576 L1217.13 72.576 L1217.13 27.2059 L1224.62 27.2059 L1224.62 34.2544 Q1226.97 30.1225 1230.74 28.1376 Q1234.5 26.1121 1239.89 26.1121 Q1240.66 26.1121 1241.59 26.2337 Q1242.52 26.3147 1243.66 26.5172 L1243.7 34.1734 Z\" fill=\"#000000\" fill-rule=\"nonzero\" fill-opacity=\"1\" /><path clip-path=\"url(#clip640)\" d=\"M1272.14 49.7694 Q1263.1 49.7694 1259.62 51.8354 Q1256.14 53.9013 1256.14 58.8839 Q1256.14 62.8538 1258.73 65.2034 Q1261.36 67.5124 1265.86 67.5124 Q1272.06 67.5124 1275.78 63.1374 Q1279.55 58.7219 1279.55 51.4303 L1279.55 49.7694 L1272.14 49.7694 M1287 46.6907 L1287 72.576 L1279.55 72.576 L1279.55 65.6895 Q1277 69.8214 1273.19 71.8063 Q1269.38 73.7508 1263.87 73.7508 Q1256.91 73.7508 1252.77 69.8619 Q1248.68 65.9325 1248.68 59.3701 Q1248.68 51.7138 1253.79 47.825 Q1258.93 43.9361 1269.1 43.9361 L1279.55 43.9361 L1279.55 43.2069 Q1279.55 38.0623 1276.15 35.2672 Q1272.78 32.4315 1266.67 32.4315 Q1262.78 32.4315 1259.09 33.3632 Q1255.41 34.295 1252 36.1584 L1252 29.2718 Q1256.09 27.692 1259.94 26.9223 Q1263.79 26.1121 1267.44 26.1121 Q1277.28 26.1121 1282.14 31.2163 Q1287 36.3204 1287 46.6907 Z\" fill=\"#000000\" fill-rule=\"nonzero\" fill-opacity=\"1\" /><path clip-path=\"url(#clip640)\" d=\"M1302.36 27.2059 L1309.81 27.2059 L1309.81 73.3862 Q1309.81 82.0551 1306.49 85.944 Q1303.21 89.8329 1295.87 89.8329 L1293.04 89.8329 L1293.04 83.5134 L1295.02 83.5134 Q1299.28 83.5134 1300.82 81.5285 Q1302.36 79.5841 1302.36 73.3862 L1302.36 27.2059 M1302.36 9.54393 L1309.81 9.54393 L1309.81 18.9825 L1302.36 18.9825 L1302.36 9.54393 Z\" fill=\"#000000\" fill-rule=\"nonzero\" fill-opacity=\"1\" /><path clip-path=\"url(#clip640)\" d=\"M1364.21 48.0275 L1364.21 51.6733 L1329.94 51.6733 Q1330.43 59.3701 1334.56 63.421 Q1338.73 67.4314 1346.15 67.4314 Q1350.44 67.4314 1354.45 66.3781 Q1358.5 65.3249 1362.47 63.2184 L1362.47 70.267 Q1358.46 71.9684 1354.25 72.8596 Q1350.04 73.7508 1345.7 73.7508 Q1334.84 73.7508 1328.48 67.4314 Q1322.17 61.1119 1322.17 50.3365 Q1322.17 39.1965 1328.16 32.6746 Q1334.2 26.1121 1344.4 26.1121 Q1353.56 26.1121 1358.87 32.0264 Q1364.21 37.9003 1364.21 48.0275 M1356.76 45.84 Q1356.68 39.7232 1353.32 36.0774 Q1349.99 32.4315 1344.49 32.4315 Q1338.25 32.4315 1334.48 35.9558 Q1330.75 39.4801 1330.19 45.8805 L1356.76 45.84 Z\" fill=\"#000000\" fill-rule=\"nonzero\" fill-opacity=\"1\" /><path clip-path=\"url(#clip640)\" d=\"M1409.1 28.9478 L1409.1 35.9153 Q1405.94 34.1734 1402.74 33.3227 Q1399.58 32.4315 1396.34 32.4315 Q1389.09 32.4315 1385.08 37.0496 Q1381.07 41.6271 1381.07 49.9314 Q1381.07 58.2358 1385.08 62.8538 Q1389.09 67.4314 1396.34 67.4314 Q1399.58 67.4314 1402.74 66.5807 Q1405.94 65.6895 1409.1 63.9476 L1409.1 70.8341 Q1405.98 72.2924 1402.62 73.0216 Q1399.29 73.7508 1395.53 73.7508 Q1385.28 73.7508 1379.24 67.3098 Q1373.21 60.8689 1373.21 49.9314 Q1373.21 38.832 1379.28 32.472 Q1385.4 26.1121 1396.01 26.1121 Q1399.46 26.1121 1402.74 26.8413 Q1406.02 27.5299 1409.1 28.9478 Z\" fill=\"#000000\" fill-rule=\"nonzero\" fill-opacity=\"1\" /><path clip-path=\"url(#clip640)\" d=\"M1429.43 14.324 L1429.43 27.2059 L1444.79 27.2059 L1444.79 32.9987 L1429.43 32.9987 L1429.43 57.6282 Q1429.43 63.1779 1430.93 64.7578 Q1432.47 66.3376 1437.13 66.3376 L1444.79 66.3376 L1444.79 72.576 L1437.13 72.576 Q1428.5 72.576 1425.22 69.3758 Q1421.94 66.1351 1421.94 57.6282 L1421.94 32.9987 L1416.47 32.9987 L1416.47 27.2059 L1421.94 27.2059 L1421.94 14.324 L1429.43 14.324 Z\" fill=\"#000000\" fill-rule=\"nonzero\" fill-opacity=\"1\" /><path clip-path=\"url(#clip640)\" d=\"M1472.17 32.4315 Q1466.17 32.4315 1462.69 37.1306 Q1459.21 41.7891 1459.21 49.9314 Q1459.21 58.0738 1462.65 62.7728 Q1466.13 67.4314 1472.17 67.4314 Q1478.12 67.4314 1481.61 62.7323 Q1485.09 58.0333 1485.09 49.9314 Q1485.09 41.8701 1481.61 37.1711 Q1478.12 32.4315 1472.17 32.4315 M1472.17 26.1121 Q1481.89 26.1121 1487.44 32.4315 Q1492.99 38.7509 1492.99 49.9314 Q1492.99 61.0714 1487.44 67.4314 Q1481.89 73.7508 1472.17 73.7508 Q1462.41 73.7508 1456.86 67.4314 Q1451.35 61.0714 1451.35 49.9314 Q1451.35 38.7509 1456.86 32.4315 Q1462.41 26.1121 1472.17 26.1121 Z\" fill=\"#000000\" fill-rule=\"nonzero\" fill-opacity=\"1\" /><path clip-path=\"url(#clip640)\" d=\"M1531.64 34.1734 Q1530.38 33.4443 1528.88 33.1202 Q1527.42 32.7556 1525.64 32.7556 Q1519.32 32.7556 1515.92 36.8875 Q1512.56 40.9789 1512.56 48.6757 L1512.56 72.576 L1505.06 72.576 L1505.06 27.2059 L1512.56 27.2059 L1512.56 34.2544 Q1514.91 30.1225 1518.67 28.1376 Q1522.44 26.1121 1527.83 26.1121 Q1528.6 26.1121 1529.53 26.2337 Q1530.46 26.3147 1531.6 26.5172 L1531.64 34.1734 Z\" fill=\"#000000\" fill-rule=\"nonzero\" fill-opacity=\"1\" /><path clip-path=\"url(#clip640)\" d=\"M1558.33 76.7889 Q1555.17 84.8907 1552.18 87.3618 Q1549.18 89.8329 1544.15 89.8329 L1538.2 89.8329 L1538.2 83.5945 L1542.57 83.5945 Q1545.65 83.5945 1547.35 82.1361 Q1549.06 80.6778 1551.12 75.2496 L1552.46 71.8468 L1534.11 27.2059 L1542.01 27.2059 L1556.19 62.6918 L1570.36 27.2059 L1578.26 27.2059 L1558.33 76.7889 Z\" fill=\"#000000\" fill-rule=\"nonzero\" fill-opacity=\"1\" /><polyline clip-path=\"url(#clip642)\" style=\"stroke:#009af9; stroke-linecap:round; stroke-linejoin:round; stroke-width:4; stroke-opacity:1; fill:none\" points=\"218.281,1323.44 259.727,1320.49 301.174,1313.67 342.62,1306.41 384.066,1300.91 425.512,1298.44 466.958,1299.39 508.404,1303.38 549.85,1309.18 591.296,1314.61 632.742,1316.3 674.188,1309.35 715.635,1290.81 757.081,1260.65 798.527,1218.85 839.973,1166.33 881.419,1105.97 922.865,1041.49 964.311,975.889 1005.76,911.14 1047.2,848.5 1088.65,788.733 1130.1,732.328 1171.54,679.587 1212.99,630.633 1254.43,585.449 1295.88,543.92 1337.33,505.874 1378.77,471.101 1420.22,439.373 1461.66,410.454 1503.11,384.109 1544.56,360.11 1586,338.239 1627.45,318.29 1668.9,300.071 1710.34,283.406 1751.79,268.131 1793.23,254.101 1834.68,241.185 1876.13,229.271 1917.57,218.263 1959.02,208.09 2000.46,198.705 2041.91,190.09 2083.36,182.268 2124.8,175.309 2166.25,169.348 2207.69,164.606 2249.14,161.415 2290.59,160.256 \"/>\n",
       "<polyline clip-path=\"url(#clip642)\" style=\"stroke:#e26f46; stroke-linecap:round; stroke-linejoin:round; stroke-width:4; stroke-opacity:1; fill:none\" points=\"218.281,1323.44 259.727,1317.62 301.174,1300.18 342.62,1271.1 384.066,1230.39 425.512,1178.04 466.958,1114.07 508.404,1038.46 549.85,953.392 591.296,863.464 632.742,773.049 674.188,685.765 715.635,604.931 757.081,532.844 798.527,469.815 839.973,415.268 881.419,368.565 922.865,328.679 964.311,294.593 1005.76,265.7 1047.2,241.78 1088.65,222.766 1130.1,208.228 1171.54,197.263 1212.99,188.972 1254.43,182.682 1295.88,177.892 1337.33,174.228 1378.77,171.411 1420.22,169.233 1461.66,167.537 1503.11,166.207 1544.56,165.156 1586,164.316 1627.45,163.639 1668.9,163.087 1710.34,162.633 1751.79,162.253 1793.23,161.933 1834.68,161.659 1876.13,161.422 1917.57,161.215 1959.02,161.033 2000.46,160.871 2041.91,160.727 2083.36,160.6 2124.8,160.489 2166.25,160.396 2207.69,160.323 2249.14,160.274 2290.59,160.256 \"/>\n",
       "<polyline clip-path=\"url(#clip642)\" style=\"stroke:#3da44d; stroke-linecap:round; stroke-linejoin:round; stroke-width:4; stroke-opacity:1; fill:none\" points=\"218.281,1323.44 259.727,1317.62 301.174,1300.18 342.62,1271.1 384.066,1230.39 425.512,1178.04 466.958,1115.31 508.404,1045.78 549.85,973.501 591.296,901.338 632.742,831.367 674.188,765.139 715.635,703.907 757.081,648.502 798.527,599.1 839.973,555.548 881.419,517.512 922.865,484.291 964.311,455.043 1005.76,429.001 1047.2,405.42 1088.65,383.648 1130.1,363.329 1171.54,344.41 1212.99,326.906 1254.43,310.79 1295.88,296.009 1337.33,282.489 1378.77,270.149 1420.22,258.901 1461.66,248.657 1503.11,239.332 1544.56,230.841 1586,223.108 1627.45,216.056 1668.9,209.618 1710.34,203.731 1751.79,198.336 1793.23,193.382 1834.68,188.821 1876.13,184.615 1917.57,180.729 1959.02,177.138 2000.46,173.826 2041.91,170.785 2083.36,168.024 2124.8,165.568 2166.25,163.465 2207.69,161.791 2249.14,160.665 2290.59,160.256 \"/>\n",
       "<polyline clip-path=\"url(#clip642)\" style=\"stroke:#c271d2; stroke-linecap:round; stroke-linejoin:round; stroke-width:4; stroke-opacity:1; fill:none\" points=\"218.281,1323.44 259.727,1264.38 301.174,1246.18 342.62,1255.43 384.066,1281.58 425.512,1315.79 466.958,1350.11 508.404,1376.56 549.85,1386.4 591.296,1369.13 632.742,1311.52 674.188,1196.26 715.635,1079.94 757.081,963.618 798.527,847.3 839.973,749.221 881.419,690.369 922.865,667.039 964.311,667.765 1005.76,684.133 1047.2,709.949 1088.65,741.591 1130.1,777.193 1171.54,814.872 1212.99,852.937 1254.43,890.249 1295.88,926.059 1337.33,959.905 1378.77,991.524 1420.22,1020.8 1461.66,1047.7 1503.11,1072.28 1544.56,1094.62 1586,1114.84 1627.45,1133.06 1668.9,1149.44 1710.34,1164.13 1751.79,1177.26 1793.23,1189.02 1834.68,1199.55 1876.13,1209.04 1917.57,1217.69 1959.02,1225.73 2000.46,1233.44 2041.91,1241.15 2083.36,1249.29 2124.8,1258.42 2166.25,1269.26 2207.69,1282.78 2249.14,1300.27 2290.59,1323.44 \"/>\n",
       "<polyline clip-path=\"url(#clip642)\" style=\"stroke:#ac8d18; stroke-linecap:round; stroke-linejoin:round; stroke-width:4; stroke-opacity:1; fill:none\" points=\"218.281,1323.44 259.727,1207.12 301.174,1090.8 342.62,974.485 384.066,858.167 425.512,741.848 466.958,625.53 508.404,509.212 549.85,436.295 591.296,412.04 632.742,426.539 674.188,474.662 715.635,555.53 757.081,649.612 798.527,736.684 839.973,819.256 881.419,893.577 922.865,955.579 964.311,1009.58 1005.76,1059.46 1047.2,1109.01 1088.65,1157.6 1130.1,1198.51 1171.54,1229.09 1212.99,1251.97 1254.43,1269.11 1295.88,1281.97 1337.33,1291.63 1378.77,1298.91 1420.22,1304.41 1461.66,1308.56 1503.11,1311.72 1544.56,1314.13 1586,1315.97 1627.45,1317.38 1668.9,1318.47 1710.34,1319.32 1751.79,1319.98 1793.23,1320.5 1834.68,1320.91 1876.13,1321.24 1917.57,1321.51 1959.02,1321.73 2000.46,1321.92 2041.91,1322.09 2083.36,1322.25 2124.8,1322.42 2166.25,1322.6 2207.69,1322.82 2249.14,1323.09 2290.59,1323.44 \"/>\n",
       "<polyline clip-path=\"url(#clip642)\" style=\"stroke:#00a9ad; stroke-linecap:round; stroke-linejoin:round; stroke-width:4; stroke-opacity:1; fill:none\" points=\"218.281,1323.44 259.727,1207.12 301.174,1090.8 342.62,974.485 384.066,858.167 425.512,741.848 466.958,650.35 508.404,606.022 549.85,595.228 591.296,608.394 632.742,639.067 674.188,683.251 715.635,738.987 757.081,799.795 798.527,859.046 839.973,916.786 881.419,969.378 922.865,1013.08 964.311,1048.85 1005.76,1077.18 1047.2,1098.08 1088.65,1113.36 1130.1,1127.14 1171.54,1141.35 1212.99,1155.45 1254.43,1169.12 1295.88,1182.13 1337.33,1194.35 1378.77,1205.72 1420.22,1216.2 1461.66,1225.81 1503.11,1234.57 1544.56,1242.51 1586,1249.69 1627.45,1256.16 1668.9,1261.97 1710.34,1267.17 1751.79,1271.82 1793.23,1275.97 1834.68,1279.7 1876.13,1283.05 1917.57,1286.11 1959.02,1288.95 2000.46,1291.67 2041.91,1294.4 2083.36,1297.27 2124.8,1300.49 2166.25,1304.32 2207.69,1309.09 2249.14,1315.26 2290.59,1323.44 \"/>\n",
       "<path clip-path=\"url(#clip640)\" d=\"M229.334 529.676 L501.15 529.676 L501.15 166.796 L229.334 166.796  Z\" fill=\"#ffffff\" fill-rule=\"evenodd\" fill-opacity=\"1\"/>\n",
       "<polyline clip-path=\"url(#clip640)\" style=\"stroke:#000000; stroke-linecap:round; stroke-linejoin:round; stroke-width:4; stroke-opacity:1; fill:none\" points=\"229.334,529.676 501.15,529.676 501.15,166.796 229.334,166.796 229.334,529.676 \"/>\n",
       "<polyline clip-path=\"url(#clip640)\" style=\"stroke:#009af9; stroke-linecap:round; stroke-linejoin:round; stroke-width:4; stroke-opacity:1; fill:none\" points=\"253.741,218.636 400.184,218.636 \"/>\n",
       "<path clip-path=\"url(#clip640)\" d=\"M428.873 232.027 L428.873 245.777 L424.591 245.777 L424.591 209.99 L428.873 209.99 L428.873 213.925 Q430.216 211.61 432.253 210.499 Q434.313 209.365 437.16 209.365 Q441.882 209.365 444.822 213.115 Q447.785 216.865 447.785 222.976 Q447.785 229.087 444.822 232.837 Q441.882 236.587 437.16 236.587 Q434.313 236.587 432.253 235.476 Q430.216 234.342 428.873 232.027 M443.364 222.976 Q443.364 218.277 441.419 215.615 Q439.498 212.93 436.119 212.93 Q432.739 212.93 430.794 215.615 Q428.873 218.277 428.873 222.976 Q428.873 227.675 430.794 230.36 Q432.739 233.022 436.119 233.022 Q439.498 233.022 441.419 230.36 Q443.364 227.675 443.364 222.976 Z\" fill=\"#000000\" fill-rule=\"nonzero\" fill-opacity=\"1\" /><path clip-path=\"url(#clip640)\" d=\"M456.257 231.981 L463.896 231.981 L463.896 205.615 L455.586 207.282 L455.586 203.022 L463.85 201.356 L468.526 201.356 L468.526 231.981 L476.165 231.981 L476.165 235.916 L456.257 235.916 L456.257 231.981 Z\" fill=\"#000000\" fill-rule=\"nonzero\" fill-opacity=\"1\" /><polyline clip-path=\"url(#clip640)\" style=\"stroke:#e26f46; stroke-linecap:round; stroke-linejoin:round; stroke-width:4; stroke-opacity:1; fill:none\" points=\"253.741,270.476 400.184,270.476 \"/>\n",
       "<path clip-path=\"url(#clip640)\" d=\"M428.873 283.867 L428.873 297.617 L424.591 297.617 L424.591 261.83 L428.873 261.83 L428.873 265.765 Q430.216 263.45 432.253 262.339 Q434.313 261.205 437.16 261.205 Q441.882 261.205 444.822 264.955 Q447.785 268.705 447.785 274.816 Q447.785 280.927 444.822 284.677 Q441.882 288.427 437.16 288.427 Q434.313 288.427 432.253 287.316 Q430.216 286.182 428.873 283.867 M443.364 274.816 Q443.364 270.117 441.419 267.455 Q439.498 264.77 436.119 264.77 Q432.739 264.77 430.794 267.455 Q428.873 270.117 428.873 274.816 Q428.873 279.515 430.794 282.2 Q432.739 284.862 436.119 284.862 Q439.498 284.862 441.419 282.2 Q443.364 279.515 443.364 274.816 Z\" fill=\"#000000\" fill-rule=\"nonzero\" fill-opacity=\"1\" /><path clip-path=\"url(#clip640)\" d=\"M459.475 283.821 L475.794 283.821 L475.794 287.756 L453.85 287.756 L453.85 283.821 Q456.512 281.066 461.095 276.436 Q465.702 271.784 466.882 270.441 Q469.128 267.918 470.007 266.182 Q470.91 264.423 470.91 262.733 Q470.91 259.978 468.966 258.242 Q467.044 256.506 463.942 256.506 Q461.743 256.506 459.29 257.27 Q456.859 258.034 454.081 259.585 L454.081 254.862 Q456.905 253.728 459.359 253.149 Q461.813 252.571 463.85 252.571 Q469.22 252.571 472.415 255.256 Q475.609 257.941 475.609 262.432 Q475.609 264.561 474.799 266.483 Q474.012 268.381 471.905 270.973 Q471.327 271.645 468.225 274.862 Q465.123 278.057 459.475 283.821 Z\" fill=\"#000000\" fill-rule=\"nonzero\" fill-opacity=\"1\" /><polyline clip-path=\"url(#clip640)\" style=\"stroke:#3da44d; stroke-linecap:round; stroke-linejoin:round; stroke-width:4; stroke-opacity:1; fill:none\" points=\"253.741,322.316 400.184,322.316 \"/>\n",
       "<path clip-path=\"url(#clip640)\" d=\"M428.873 335.707 L428.873 349.457 L424.591 349.457 L424.591 313.67 L428.873 313.67 L428.873 317.605 Q430.216 315.29 432.253 314.179 Q434.313 313.045 437.16 313.045 Q441.882 313.045 444.822 316.795 Q447.785 320.545 447.785 326.656 Q447.785 332.767 444.822 336.517 Q441.882 340.267 437.16 340.267 Q434.313 340.267 432.253 339.156 Q430.216 338.022 428.873 335.707 M443.364 326.656 Q443.364 321.957 441.419 319.295 Q439.498 316.61 436.119 316.61 Q432.739 316.61 430.794 319.295 Q428.873 321.957 428.873 326.656 Q428.873 331.355 430.794 334.04 Q432.739 336.702 436.119 336.702 Q439.498 336.702 441.419 334.04 Q443.364 331.355 443.364 326.656 Z\" fill=\"#000000\" fill-rule=\"nonzero\" fill-opacity=\"1\" /><path clip-path=\"url(#clip640)\" d=\"M469.614 320.962 Q472.97 321.679 474.845 323.948 Q476.743 326.216 476.743 329.549 Q476.743 334.665 473.225 337.466 Q469.706 340.267 463.225 340.267 Q461.049 340.267 458.734 339.827 Q456.442 339.411 453.989 338.554 L453.989 334.04 Q455.933 335.174 458.248 335.753 Q460.563 336.332 463.086 336.332 Q467.484 336.332 469.776 334.596 Q472.091 332.86 472.091 329.549 Q472.091 326.494 469.938 324.781 Q467.808 323.045 463.989 323.045 L459.961 323.045 L459.961 319.202 L464.174 319.202 Q467.623 319.202 469.452 317.837 Q471.28 316.448 471.28 313.855 Q471.28 311.193 469.382 309.781 Q467.507 308.346 463.989 308.346 Q462.067 308.346 459.868 308.763 Q457.669 309.179 455.03 310.059 L455.03 305.892 Q457.692 305.151 460.007 304.781 Q462.345 304.411 464.405 304.411 Q469.729 304.411 472.831 306.841 Q475.933 309.249 475.933 313.369 Q475.933 316.239 474.29 318.23 Q472.646 320.198 469.614 320.962 Z\" fill=\"#000000\" fill-rule=\"nonzero\" fill-opacity=\"1\" /><polyline clip-path=\"url(#clip640)\" style=\"stroke:#c271d2; stroke-linecap:round; stroke-linejoin:round; stroke-width:4; stroke-opacity:1; fill:none\" points=\"253.741,374.156 400.184,374.156 \"/>\n",
       "<path clip-path=\"url(#clip640)\" d=\"M428.873 387.547 L428.873 401.297 L424.591 401.297 L424.591 365.51 L428.873 365.51 L428.873 369.445 Q430.216 367.13 432.253 366.019 Q434.313 364.885 437.16 364.885 Q441.882 364.885 444.822 368.635 Q447.785 372.385 447.785 378.496 Q447.785 384.607 444.822 388.357 Q441.882 392.107 437.16 392.107 Q434.313 392.107 432.253 390.996 Q430.216 389.862 428.873 387.547 M443.364 378.496 Q443.364 373.797 441.419 371.135 Q439.498 368.45 436.119 368.45 Q432.739 368.45 430.794 371.135 Q428.873 373.797 428.873 378.496 Q428.873 383.195 430.794 385.88 Q432.739 388.542 436.119 388.542 Q439.498 388.542 441.419 385.88 Q443.364 383.195 443.364 378.496 Z\" fill=\"#000000\" fill-rule=\"nonzero\" fill-opacity=\"1\" /><path clip-path=\"url(#clip640)\" d=\"M436.35 355.417 L440.609 355.417 L440.609 360.811 L436.35 360.811 L436.35 355.417 M438.526 364.885 L438.526 364.885 Z\" fill=\"#000000\" fill-rule=\"nonzero\" fill-opacity=\"1\" /><path clip-path=\"url(#clip640)\" d=\"M456.257 387.501 L463.896 387.501 L463.896 361.135 L455.586 362.802 L455.586 358.542 L463.85 356.876 L468.526 356.876 L468.526 387.501 L476.165 387.501 L476.165 391.436 L456.257 391.436 L456.257 387.501 Z\" fill=\"#000000\" fill-rule=\"nonzero\" fill-opacity=\"1\" /><polyline clip-path=\"url(#clip640)\" style=\"stroke:#ac8d18; stroke-linecap:round; stroke-linejoin:round; stroke-width:4; stroke-opacity:1; fill:none\" points=\"253.741,425.996 400.184,425.996 \"/>\n",
       "<path clip-path=\"url(#clip640)\" d=\"M428.873 439.387 L428.873 453.137 L424.591 453.137 L424.591 417.35 L428.873 417.35 L428.873 421.285 Q430.216 418.97 432.253 417.859 Q434.313 416.725 437.16 416.725 Q441.882 416.725 444.822 420.475 Q447.785 424.225 447.785 430.336 Q447.785 436.447 444.822 440.197 Q441.882 443.947 437.16 443.947 Q434.313 443.947 432.253 442.836 Q430.216 441.702 428.873 439.387 M443.364 430.336 Q443.364 425.637 441.419 422.975 Q439.498 420.29 436.119 420.29 Q432.739 420.29 430.794 422.975 Q428.873 425.637 428.873 430.336 Q428.873 435.035 430.794 437.72 Q432.739 440.382 436.119 440.382 Q439.498 440.382 441.419 437.72 Q443.364 435.035 443.364 430.336 Z\" fill=\"#000000\" fill-rule=\"nonzero\" fill-opacity=\"1\" /><path clip-path=\"url(#clip640)\" d=\"M436.35 407.257 L440.609 407.257 L440.609 412.651 L436.35 412.651 L436.35 407.257 M438.526 416.725 L438.526 416.725 Z\" fill=\"#000000\" fill-rule=\"nonzero\" fill-opacity=\"1\" /><path clip-path=\"url(#clip640)\" d=\"M459.475 439.341 L475.794 439.341 L475.794 443.276 L453.85 443.276 L453.85 439.341 Q456.512 436.586 461.095 431.956 Q465.702 427.304 466.882 425.961 Q469.128 423.438 470.007 421.702 Q470.91 419.943 470.91 418.253 Q470.91 415.498 468.966 413.762 Q467.044 412.026 463.942 412.026 Q461.743 412.026 459.29 412.79 Q456.859 413.554 454.081 415.105 L454.081 410.382 Q456.905 409.248 459.359 408.669 Q461.813 408.091 463.85 408.091 Q469.22 408.091 472.415 410.776 Q475.609 413.461 475.609 417.952 Q475.609 420.081 474.799 422.003 Q474.012 423.901 471.905 426.493 Q471.327 427.165 468.225 430.382 Q465.123 433.577 459.475 439.341 Z\" fill=\"#000000\" fill-rule=\"nonzero\" fill-opacity=\"1\" /><polyline clip-path=\"url(#clip640)\" style=\"stroke:#00a9ad; stroke-linecap:round; stroke-linejoin:round; stroke-width:4; stroke-opacity:1; fill:none\" points=\"253.741,477.836 400.184,477.836 \"/>\n",
       "<path clip-path=\"url(#clip640)\" d=\"M428.873 491.227 L428.873 504.977 L424.591 504.977 L424.591 469.19 L428.873 469.19 L428.873 473.125 Q430.216 470.81 432.253 469.699 Q434.313 468.565 437.16 468.565 Q441.882 468.565 444.822 472.315 Q447.785 476.065 447.785 482.176 Q447.785 488.287 444.822 492.037 Q441.882 495.787 437.16 495.787 Q434.313 495.787 432.253 494.676 Q430.216 493.542 428.873 491.227 M443.364 482.176 Q443.364 477.477 441.419 474.815 Q439.498 472.13 436.119 472.13 Q432.739 472.13 430.794 474.815 Q428.873 477.477 428.873 482.176 Q428.873 486.875 430.794 489.56 Q432.739 492.222 436.119 492.222 Q439.498 492.222 441.419 489.56 Q443.364 486.875 443.364 482.176 Z\" fill=\"#000000\" fill-rule=\"nonzero\" fill-opacity=\"1\" /><path clip-path=\"url(#clip640)\" d=\"M436.35 459.097 L440.609 459.097 L440.609 464.491 L436.35 464.491 L436.35 459.097 M438.526 468.565 L438.526 468.565 Z\" fill=\"#000000\" fill-rule=\"nonzero\" fill-opacity=\"1\" /><path clip-path=\"url(#clip640)\" d=\"M469.614 476.482 Q472.97 477.199 474.845 479.468 Q476.743 481.736 476.743 485.069 Q476.743 490.185 473.225 492.986 Q469.706 495.787 463.225 495.787 Q461.049 495.787 458.734 495.347 Q456.442 494.931 453.989 494.074 L453.989 489.56 Q455.933 490.694 458.248 491.273 Q460.563 491.852 463.086 491.852 Q467.484 491.852 469.776 490.116 Q472.091 488.38 472.091 485.069 Q472.091 482.014 469.938 480.301 Q467.808 478.565 463.989 478.565 L459.961 478.565 L459.961 474.722 L464.174 474.722 Q467.623 474.722 469.452 473.357 Q471.28 471.968 471.28 469.375 Q471.28 466.713 469.382 465.301 Q467.507 463.866 463.989 463.866 Q462.067 463.866 459.868 464.283 Q457.669 464.699 455.03 465.579 L455.03 461.412 Q457.692 460.671 460.007 460.301 Q462.345 459.931 464.405 459.931 Q469.729 459.931 472.831 462.361 Q475.933 464.769 475.933 468.889 Q475.933 471.759 474.29 473.75 Q472.646 475.718 469.614 476.482 Z\" fill=\"#000000\" fill-rule=\"nonzero\" fill-opacity=\"1\" /></svg>\n"
      ]
     },
     "metadata": {},
     "output_type": "display_data"
    }
   ],
   "source": [
    "X̃ = hcat(X...)\n",
    "display(plot(t_vec, X̃', label = [\"p1\" \"p2\" \"p3\" \"ṗ1\" \"ṗ2\" \"ṗ3\"], xlabel = \"time (s)\", title = \"State Trajectory\"))"
   ]
  },
  {
   "cell_type": "code",
   "execution_count": 111,
   "id": "0e7cea88",
   "metadata": {},
   "outputs": [
    {
     "data": {
      "text/plain": [
       "visualize! (generic function with 2 methods)"
      ]
     },
     "execution_count": 111,
     "metadata": {},
     "output_type": "execute_result"
    }
   ],
   "source": [
    "import MeshCat as mc\n",
    "using RobotZoo\n",
    "using StaticArrays\n",
    "using CoordinateTransformations, Rotations, Colors, StaticArrays, GeometryBasics\n",
    "\n",
    "function set_mesh!(vis, color=colorant\"blue\") \n",
    "    radius = 0.1\n",
    "    body = mc.HyperSphere(mc.Point(0,0,0.0), radius)\n",
    "    mc.setobject!(vis[\"geom\"][\"body\"], body, MeshPhongMaterial(color=color))\n",
    "end\n",
    "    \n",
    "function draw_ball!(vis, ball, t, color=colorant\"black\")\n",
    "    radius = 0.8\n",
    "    body = mc.HyperSphere(mc.Point(ball[1], ball[2], ball[3]), radius)\n",
    "    mc.setobject!(vis[\"ball\"][string(t)], body, MeshPhongMaterial(color=color))\n",
    "end\n",
    "\n",
    "function visualize!(vis, x::StaticVector)\n",
    "    px, py,pz = x[1], x[2], x[3]\n",
    "    mc.settransform!(vis[\"geom\"][\"body\"], Translation(px,py,pz))\n",
    "end\n",
    "\n",
    "function visualize!(vis, tf::Real, X)\n",
    "    fps = Int(round((length(X)-1)/tf))\n",
    "    anim = mc.MeshCat.Animation(fps)\n",
    "    for (k,x) in enumerate(X)\n",
    "        mc.atframe(anim, k) do\n",
    "            x = X[k]\n",
    "            visualize!(vis, SVector{6}(x)) \n",
    "        end\n",
    "    end\n",
    "    setanimation!(vis, anim)\n",
    "end"
   ]
  },
  {
   "cell_type": "code",
   "execution_count": 112,
   "id": "55df59c5",
   "metadata": {},
   "outputs": [
    {
     "name": "stderr",
     "output_type": "stream",
     "text": [
      "\u001b[36m\u001b[1m┌ \u001b[22m\u001b[39m\u001b[36m\u001b[1mInfo: \u001b[22m\u001b[39mMeshCat server started. You can open the visualizer by visiting the following URL in your browser:\n",
      "\u001b[36m\u001b[1m└ \u001b[22m\u001b[39mhttp://127.0.0.1:8717\n"
     ]
    },
    {
     "data": {
      "text/html": [
       "    <div style=\"height: 500px; width: 100%; overflow-x: auto; overflow-y: hidden; resize: both\">\n",
       "    <iframe src=\"http://127.0.0.1:8717\" style=\"width: 100%; height: 100%; border: none\"></iframe>\n",
       "    </div>\n"
      ],
      "text/plain": [
       "MeshCat.DisplayedVisualizer(MeshCat.CoreVisualizer(MeshCat.SceneTrees.SceneNode(nothing, nothing, Dict{String, Vector{UInt8}}(), nothing, Dict{String, MeshCat.SceneTrees.SceneNode}()), Set{Any}(), ip\"127.0.0.1\", 8717))"
      ]
     },
     "execution_count": 112,
     "metadata": {},
     "output_type": "execute_result"
    }
   ],
   "source": [
    "#Set up visualization\n",
    "vis = Visualizer()\n",
    "render(vis)"
   ]
  },
  {
   "cell_type": "code",
   "execution_count": 113,
   "id": "2f547a67",
   "metadata": {},
   "outputs": [],
   "source": [
    "# model = RobotZoo.DoubleIntegrator(3)\n",
    "set_mesh!(vis)\n",
    "draw_ball!(vis, b1, 1)\n",
    "draw_ball!(vis, b2, 2)\n",
    "draw_ball!(vis, b3, 3)\n",
    "X1 = [SVector{6}(x) for x in eachcol(X̃)];\n",
    "visualize!(vis, t_vec[end], X1)"
   ]
  },
  {
   "cell_type": "markdown",
   "id": "97bf516f",
   "metadata": {},
   "source": [
    "# Track trajectory using Quadrotor dynamics + iLQR"
   ]
  },
  {
   "cell_type": "code",
   "execution_count": 87,
   "id": "8dd646d8",
   "metadata": {},
   "outputs": [
    {
     "data": {
      "text/plain": [
       "quad_discrete_dynamics (generic function with 1 method)"
      ]
     },
     "execution_count": 87,
     "metadata": {},
     "output_type": "execute_result"
    }
   ],
   "source": [
    "function quad_discrete_dynamics(params::NamedTuple, x::Vector, u)\n",
    "    # discrete dynamics\n",
    "    # x - state \n",
    "    # u - control\n",
    "    # dt comes from params.model.dt \n",
    "    return rk4(params.model, quadrotor_dynamics, x, u, params.model.dt)\n",
    "end"
   ]
  },
  {
   "cell_type": "code",
   "execution_count": 88,
   "id": "960c67d3",
   "metadata": {},
   "outputs": [
    {
     "data": {
      "text/plain": [
       "forward_pass (generic function with 1 method)"
      ]
     },
     "execution_count": 88,
     "metadata": {},
     "output_type": "execute_result"
    }
   ],
   "source": [
    "function stage_cost(p::NamedTuple,x::Vector,u::Vector,k::Int)\n",
    "    return 0.5 * (x[k] - p.Xref[k])' * p.Q * (x[k] - p.Xref[k]) + 1/2 * (u[k] - p.Uref[k])' * p.R * (u[k] - p.Uref[k])\n",
    "end\n",
    "function term_cost(p::NamedTuple,x)\n",
    "    return 0.5 * (x - p.Xref[p.N])' * p.Qf * (x - p.Xref[p.N])\n",
    "end\n",
    "function stage_cost_expansion(p::NamedTuple, x::Vector, u::Vector, k::Int)\n",
    "    ∇ₓ²J = p.Q\n",
    "    ∇ₓJ = p.Q * (x[k] - p.Xref[k])\n",
    "    ∇ᵤ²J = p.R\n",
    "    ∇ᵤJ = p.R * (u[k] - p.Uref[k])\n",
    "    \n",
    "    return [∇ₓ²J, ∇ₓJ, ∇ᵤ²J, ∇ᵤJ]\n",
    "\n",
    "end\n",
    "function term_cost_expansion(p::NamedTuple, x::Vector)\n",
    "    ∇ₓ²Jn = p.Qf\n",
    "    ∇ₓJn = p.Qf * (x - p.Xref[p.N])\n",
    "    \n",
    "    return [∇ₓ²Jn, ∇ₓJn]\n",
    "\n",
    "end\n",
    "function backward_pass(params::NamedTuple,          # useful params \n",
    "                       X::Vector{Vector{Float64}},  # state trajectory \n",
    "                       U::Vector{Vector{Float64}})  # control trajectory \n",
    "    # compute the iLQR backwards pass given a dynamically feasible trajectory X and U\n",
    "    # return d, K, ΔJ  \n",
    "    \n",
    "    # outputs:\n",
    "    #     d  - Vector{Vector} feedforward control  \n",
    "    #     K  - Vector{Matrix} feedback gains \n",
    "    #     ΔJ - Float64        expected decrease in cost \n",
    "    \n",
    "    nx, nu, N = params.nx, params.nu, params.N \n",
    "    \n",
    "    # vectors of vectors/matrices for recursion \n",
    "    P = [zeros(nx,nx) for i = 1:N]   # cost to go quadratic term\n",
    "    p = [zeros(nx)    for i = 1:N]   # cost to go linear term\n",
    "    d = [zeros(nu)    for i = 1:N-1] # feedforward control\n",
    "    K = [zeros(nu,nx) for i = 1:N-1] # feedback gain\n",
    "\n",
    "    # TODO: implement backwards pass and return d, K, ΔJ \n",
    "    N = params.N\n",
    "    ΔJ = 0.0\n",
    "    \n",
    "    # First p/P comes from terminal state\n",
    "    P[N], p[N] = term_cost_expansion(params, X[N])\n",
    "    \n",
    "    for k = N - 1:-1:1\n",
    "        ∇ₓ²J, ∇ₓJ, ∇ᵤ²J, ∇ᵤJ = stage_cost_expansion(params, X, U, k)\n",
    "        Aₖ = FD.jacobian(dx -> quad_discrete_dynamics(params, dx, U[k]), X[k])\n",
    "        Bₖ = FD.jacobian(du -> quad_discrete_dynamics(params, X[k], du), U[k])\n",
    "        \n",
    "        # Compute the g's and G's\n",
    "        gₓ = ∇ₓJ + Aₖ' * p[k + 1]\n",
    "        gᵤ = ∇ᵤJ + Bₖ' * p[k + 1]\n",
    "        \n",
    "        #iLQR (Gauss-Newton) version\n",
    "        Gₓₓ = ∇ₓ²J + Aₖ' * P[k + 1] * Aₖ\n",
    "        Gᵤᵤ = ∇ᵤ²J + Bₖ' * P[k + 1] * Bₖ\n",
    "        Gₓᵤ = Aₖ' * P[k + 1] * Bₖ\n",
    "        Gᵤₓ = Bₖ' * P[k + 1] * Aₖ\n",
    "        \n",
    "        d[k] = Gᵤᵤ \\ gᵤ\n",
    "        K[k] = Gᵤᵤ \\ Gᵤₓ\n",
    "        \n",
    "        P[k] = Gₓₓ + K[k]' * Gᵤᵤ * K[k] - Gₓᵤ*K[k] - K[k]' * Gᵤₓ\n",
    "        \n",
    "        p[k] = gₓ - K[k]' * gᵤ + K[k]' * Gᵤᵤ * d[k] - Gₓᵤ * d[k]\n",
    "        \n",
    "        ΔJ += gᵤ'*d[k]\n",
    "    end\n",
    "\n",
    "    return d, K, ΔJ\n",
    "end\n",
    "\n",
    "function trajectory_cost(params::NamedTuple,          # useful params \n",
    "                         X::Vector{Vector{Float64}},  # state trajectory \n",
    "                         U::Vector{Vector{Float64}}) # control trajectory \n",
    "    # compute the trajectory cost for trajectory X and U (assuming they are dynamically feasible)\n",
    "    N = params.N\n",
    "    total_cost = term_cost(params, X[N])\n",
    "    \n",
    "    for i = 1:N-1\n",
    "        total_cost += stage_cost(params, X, U, i)\n",
    "    end\n",
    "    \n",
    "    return total_cost\n",
    "end\n",
    "\n",
    "function forward_pass(params::NamedTuple,           # useful params \n",
    "                      X::Vector{Vector{Float64}},   # state trajectory \n",
    "                      U::Vector{Vector{Float64}},   # control trajectory \n",
    "                      d::Vector{Vector{Float64}},   # feedforward controls \n",
    "                      K::Vector{Matrix{Float64}};   # feedback gains\n",
    "                      max_linesearch_iters = 20)    # max iters on linesearch \n",
    "    # forward pass in iLQR with linesearch \n",
    "    # use a line search where the trajectory cost simply has to decrease\n",
    "    \n",
    "    # outputs:\n",
    "    #     Xn::Vector{Vector}  updated state trajectory  \n",
    "    #     Un::Vector{Vector}  updated control trajectory \n",
    "    #     J::Float64          updated cost  \n",
    "    #     α::Float64.         step length \n",
    "\n",
    "    nx, nu, N = params.nx, params.nu, params.N \n",
    "    \n",
    "    Xn = [zeros(nx) for i = 1:N]      # new state history \n",
    "    Un = [zeros(nu) for i = 1:N-1]    # new control history \n",
    "    \n",
    "    # initial condition \n",
    "    Xn[1] = 1*X[1]\n",
    "    \n",
    "    # initial step length \n",
    "    α = 1.0\n",
    "    orig_traj_cost = trajectory_cost(params, X, U)\n",
    "     \n",
    "    for i = 1:max_linesearch_iters\n",
    "        \n",
    "        # Compute rollout\n",
    "        for k = 1:N-1\n",
    "            Un[k] = U[k] - α * d[k] - K[k] * (Xn[k] - X[k])\n",
    "            Xn[k + 1] = quad_discrete_dynamics(params, Xn[k], Un[k])\n",
    "        end\n",
    "        \n",
    "        α /= 2\n",
    "        \n",
    "        updated_cost = trajectory_cost(params, Xn, Un)\n",
    "        \n",
    "        if  updated_cost < orig_traj_cost\n",
    "            return Xn, Un, updated_cost, α\n",
    "        end\n",
    "    end\n",
    "\n",
    "    error(\"forward pass failed\")\n",
    "end"
   ]
  },
  {
   "cell_type": "code",
   "execution_count": 89,
   "id": "b0a294ad",
   "metadata": {},
   "outputs": [
    {
     "data": {
      "text/plain": [
       "iLQR (generic function with 1 method)"
      ]
     },
     "execution_count": 89,
     "metadata": {},
     "output_type": "execute_result"
    }
   ],
   "source": [
    "function iLQR(params::NamedTuple,         # useful params for costs/dynamics/indexing \n",
    "              x0::Vector,                 # initial condition \n",
    "              U::Vector{Vector{Float64}}; # initial controls \n",
    "              atol=1e-3,                  # convergence criteria: ΔJ < atol \n",
    "              max_iters = 250,            # max iLQR iterations \n",
    "              verbose = true)             # print logging\n",
    "    \n",
    "    # iLQR solver given an initial condition x0, initial controls U, and a \n",
    "    # dynamics function described by `discrete_dynamics`\n",
    "    \n",
    "    # return (X, U, K) where \n",
    "    # outputs:\n",
    "    #     X::Vector{Vector} - state trajectory \n",
    "    #     U::Vector{Vector} - control trajectory \n",
    "    #     K::Vector{Matrix} - feedback gains K \n",
    "\n",
    "    # first check the sizes of everything\n",
    "    @assert length(U) == params.N-1\n",
    "    @assert length(U[1]) == params.nu\n",
    "    @assert length(x0) == params.nx \n",
    "\n",
    "    nx, nu, N = params.nx, params.nu, params.N\n",
    "\n",
    "    # Initial rollout\n",
    "    X = [zeros(nx) for i = 1:N]\n",
    "    X[1] = x0\n",
    "    \n",
    "    # Compute rollout\n",
    "    for k = 1:N-1\n",
    "        X[k + 1] = quad_discrete_dynamics(params, X[k], U[k])\n",
    "    end\n",
    "\n",
    "    for ilqr_iter = 1:max_iters\n",
    "        \n",
    "        d, K, ΔJ = backward_pass(params, X, U)\n",
    "        \n",
    "        X, U, J, α = forward_pass(params, X, U, d, K)\n",
    "        \n",
    "        # termination criteria \n",
    "        if ΔJ < atol \n",
    "            if verbose \n",
    "                @info \"iLQR converged\"\n",
    "            end\n",
    "            return X, U, K \n",
    "        end\n",
    "        \n",
    "        # ---------------logging -------------------\n",
    "        if verbose\n",
    "            dmax = maximum(norm.(d))\n",
    "            if rem(ilqr_iter-1,10)==0\n",
    "                @printf \"iter     J           ΔJ        |d|         α         \\n\"\n",
    "                @printf \"-------------------------------------------------\\n\"\n",
    "            end\n",
    "            @printf(\"%3d   %10.3e  %9.2e  %9.2e  %6.4f    \\n\",\n",
    "              ilqr_iter, J, ΔJ, dmax, α)\n",
    "        end\n",
    "        \n",
    "    end\n",
    "    error(\"iLQR failed\")\n",
    "end"
   ]
  },
  {
   "cell_type": "code",
   "execution_count": 90,
   "id": "76d3d97e",
   "metadata": {},
   "outputs": [
    {
     "data": {
      "text/plain": [
       "solve_quadrotor_trajectory (generic function with 2 methods)"
      ]
     },
     "execution_count": 90,
     "metadata": {},
     "output_type": "execute_result"
    }
   ],
   "source": [
    "function create_reference(X̃, dt)\n",
    "    # create reference trajectory for quadrotor\n",
    "    N = size(X̃)[2]\n",
    "    Xref = [zeros(12) for i = 1:N]\n",
    "    \n",
    "    # Copy all positions and velocities\n",
    "    for k = 1:N\n",
    "        Xref[k][1:6] = X̃[1:6, k]\n",
    "    end\n",
    "    \n",
    "    Uref = [(9.81*0.5/4)*ones(4) for i = 1:(N-1)]\n",
    "    return Xref, Uref\n",
    "end\n",
    "function solve_quadrotor_trajectory(model, Xref, Uref)\n",
    "    \n",
    "    # problem size \n",
    "    nx = 12\n",
    "    nu = 4\n",
    "    dt = 0.1\n",
    "    tf = 5.0 \n",
    "    t_vec = 0:dt:tf \n",
    "    N = length(t_vec)\n",
    "    \n",
    "    # tracking cost function\n",
    "    Q = 1*diagm([1*ones(3);.1*ones(3);1*ones(3);.1*ones(3)])\n",
    "    R = .1*diagm(ones(nu))\n",
    "    Qf = 10*Q \n",
    "    \n",
    "    # the params needed by iLQR \n",
    "    params = (\n",
    "        N = N, \n",
    "        nx = nx, \n",
    "        nu = nu, \n",
    "        Xref = Xref, \n",
    "        Uref = Uref, \n",
    "        Q = Q, \n",
    "        R = R, \n",
    "        Qf = Qf, \n",
    "        model = model\n",
    "    )\n",
    "\n",
    "    # initial condition \n",
    "    x0 = 1*Xref[1]\n",
    "    \n",
    "    # initial guess controls \n",
    "    U = [(uref + .0001*randn(nu)) for uref in Uref]\n",
    "    \n",
    "    # solve with iLQR\n",
    "    X, U, K = iLQR(params,x0,U;atol=1e-4,max_iters = 250,verbose = true)\n",
    "    \n",
    "    return X, U, K, t_vec, params\n",
    "end"
   ]
  },
  {
   "cell_type": "code",
   "execution_count": 91,
   "id": "3e2556a5",
   "metadata": {},
   "outputs": [
    {
     "name": "stdout",
     "output_type": "stream",
     "text": [
      "iter     J           ΔJ        |d|         α         \n",
      "-------------------------------------------------\n",
      "  1    4.986e-01   5.59e+02   6.42e+00  0.5000    \n",
      "  2    4.602e-01   7.95e-02   1.28e-01  0.5000    \n",
      "  3    4.600e-01   3.72e-04   2.08e-02  0.5000    \n"
     ]
    },
    {
     "name": "stderr",
     "output_type": "stream",
     "text": [
      "\u001b[36m\u001b[1m[ \u001b[22m\u001b[39m\u001b[36m\u001b[1mInfo: \u001b[22m\u001b[39miLQR converged\n"
     ]
    },
    {
     "data": {
      "text/plain": [
       "([[0.0, 0.0, 0.0, -1.032890473581568e-26, 9.473993829601898e-26, 5.1074433812390215e-28, 0.0, 0.0, 0.0, 0.0, 0.0, 0.0], [-1.1950317282261656e-5, 0.0006409020918324472, 0.009334503017009, -0.00048070011798568386, 0.02562907829843395, 0.18626786885289248, -0.016468129476299893, -0.00030704530502791095, 8.870730241444872e-5, -1.3172993188843025, -0.024675950702338065, 0.00709483327052951], [-0.00018864902967489816, 0.009628414588449326, 0.039988397633932055, -0.003590231393900672, 0.1748311566300422, 0.42437869259824407, -0.041959122514590386, -0.0009439886925395382, 0.00030074719352160843, -0.7201184597620545, -0.026499099220544973, 0.009136072744392147], [-0.0008310469033549347, 0.038720086053525116, 0.0944635862263203, -0.00956525257767178, 0.41683525660033705, 0.6632131717674455, -0.054070040315548976, -0.001287630791823162, 0.0005422764590480406, -0.2464904475207279, -0.0019669022741711367, 0.009701267990747976], [-0.0020937501822992305, 0.0937943904730007, 0.17121051321229686, -0.015253822534526087, 0.6861756838455577, 0.871386429289108, -0.05599755186939251, -0.0007257106652857082, 0.0007228039282357136, 0.09284724615717399, 0.04509571335518041, 0.01002968009214452], [-0.0036885212472133927, 0.17521269471931114, 0.2668758408234362, -0.015147968989982085, 0.9382244318880424, 1.0427787646188686, -0.050819918804222125, 0.0011872185774973927, 0.000772177413686454, 0.32040665405394425, 0.1055811183303702, 0.010375102970047734], [-0.004722513161722466, 0.27981332642699436, 0.37775941827393617, -0.002921497906688773, 1.146549918450268, 1.1762072008448006, -0.041057455840883064, 0.004631340622049628, 0.0006647312965625568, 0.45929049244102094, 0.1676631526966673, 0.010679988601688777], [-0.0037000461141198267, 0.4024630506516943, 0.49983375634026533, 0.026890665766250696, 1.2976365476313483, 1.2664173425180756, -0.028717564609247074, 0.009481736673253367, 0.0004245396172139859, 0.5270419879165404, 0.21870822185666783, 0.010846672259978013], [0.0013234765343563219, 0.5372249092374192, 0.6286447991072066, 0.07760642041027388, 1.3884887070974483, 1.310410140369632, -0.015400537610336435, 0.015318339199296479, 0.00011063062600650126, 0.5379103944236552, 0.24741303526087047, 0.010829793110970522], [0.012507852885643765, 0.6782379336105983, 0.7597847855738575, 0.15013293767572888, 1.4231981520003198, 1.3123957809553857, -0.002356513013461443, 0.021484012647508974, -0.00020882628471554997, 0.5051833923440989, 0.24576275121062421, 0.010651026000402675]  …  [1.9034958668879594, 1.9806119106905138, 1.9808208290741074, 0.1827102236523887, 0.038334934204957316, 0.0358630468096489, 0.0009365905497989381, -0.0037134459203777273, -0.0005095889147662895, -0.0011621901894628868, 2.6008036977263373e-5, 0.0015348037749295974], [1.9210379545348, 1.9842644436795716, 1.9842629928475144, 0.16808591193468156, 0.034727407916847905, 0.032979587635130744, 0.0009184727795997494, -0.0037834884576390905, -0.0004730240654885861, -0.0002597428610684265, -0.005625294078125335, 0.0014113844524418773], [1.9370950128094915, 1.9875582575317254, 1.9874175223595898, 0.15292385269037806, 0.031145743130291247, 0.030108948945501823, 0.0009231946800831452, -0.003985056433896034, -0.0004395040110353454, 0.0006730808095304601, -0.010494565796172375, 0.0012966873763082393], [1.95158906876045, 1.9904915181096063, 1.9902801274852615, 0.1367564232122082, 0.027502141918204565, 0.027139762732734853, 0.0009497807466188969, -0.004293127792445372, -0.0004087761114462636, 0.0014950780316828499, -0.014144249808707023, 0.0011897732864313802], [1.96440105370832, 1.9930540298742647, 1.9928354067948075, 0.11923720973403212, 0.02371957144887017, 0.023961300426318083, 0.0009935857726735414, -0.004670625520349009, -0.00038062380111584723, 0.0020533417153214897, -0.016047749378839994, 0.0010893509291493193], [1.9753853989017345, 1.9952290428005877, 1.9950574736756752, 0.10019140080598811, 0.019746427576023087, 0.020474866177152676, 0.0010462042073372375, -0.005067000562718311, -0.0003548883239944077, 0.0021994675079697176, -0.01565413578054251, 0.0009928551160832445], [1.9843898036128318, 1.9969965110026977, 1.9969120108305647, 0.07966742895897932, 0.015570587744954173, 0.016610929298991807, 0.0010958648002459073, -0.00541896895439542, -0.000331538243796965, 0.0018122472365763988, -0.01249576841260491, 0.000893526602842136], [1.991279800673983, 1.9983376346799255, 1.9983604154023442, 0.05797912925774596, 0.011230590131375614, 0.012353669726691843, 0.001128495440845899, -0.005654553277437996, -0.00031088984720748837, 0.0008285774302044639, -0.006345000176516711, 0.0007711513163995327], [1.9959664027970827, 1.9992402453808922, 1.9993669965190104, 0.03572142075337316, 0.006820586268543459, 0.007777232375000638, 0.0011299319636413436, -0.0057029702426503286, -0.00029430889263979467, -0.0006961957902497948, 0.0024748559503633485, 0.0005626595476959304], [1.9984278609092851, 1.9997031737919806, 1.9999109759732356, 0.013531912425478042, 0.0024444440969437955, 0.0031029354520888033, 0.0011198926018011926, -0.005665856837318542, -0.0002864466219784692, -0.00010146780988171979, 0.000495074360943838, 6.872138470651393e-5]], [[1.4643787978083165, 1.3704150002713473, 1.4611659362018075, 1.5435463324807692], [1.5368791943989473, 1.5743750343627079, 1.5367189045856127, 1.4958904287461579], [1.5533007906372007, 1.5855970040978937, 1.5565690256644205, 1.5233500444545751], [1.5211879831754311, 1.546316586480688, 1.527380627299078, 1.5017158409711326], [1.4707545610281145, 1.4893947120799576, 1.4786835287923632, 1.4594794220214948], [1.41341627169197, 1.4263607556197866, 1.4215357211908066, 1.4080934648031682], [1.3496772592264912, 1.3573321380552457, 1.3563344657192757, 1.3484074503055594], [1.286141669486288, 1.2887402119196874, 1.2898582399317957, 1.2872872552926942], [1.2330694120873458, 1.230941919554192, 1.2327980971083132, 1.235217454311782], [1.1936321105087602, 1.1872911494434504, 1.1889511276759923, 1.1957378997262038]  …  [1.2229907958988686, 1.222747233963454, 1.2221873267140035, 1.222648063254077], [1.2231116409135294, 1.2229003091637418, 1.2223689086146698, 1.2227817412991313], [1.2230899835427211, 1.2229248788394849, 1.2224500194855743, 1.2228023847212737], [1.2229103077528527, 1.222811684399267, 1.222430621975773, 1.2227037989454843], [1.2225664540080192, 1.2225599369503288, 1.2223162601836701, 1.2224867321103925], [1.2220688448202683, 1.2221829945837903, 1.2221205553989347, 1.2221639498200103], [1.2214526522134104, 1.2217157668538088, 1.2218677335147232, 1.2217667878755347], [1.2207873393916826, 1.2212267459909232, 1.2215957153000816, 1.2213561050868698], [1.2201942819154195, 1.2208438630843639, 1.2213534623199604, 1.22104427587543], [1.2206630336186517, 1.2209752340402389, 1.220402835213547, 1.22089706444582]], [[-0.20186443698232098 -0.09710565706834114 … -0.09279906116518283 0.3086663901238794; 0.06345732175899534 -0.20973514511114102 … 0.0070203131021251645 -0.3021525747798558; 0.08119841481689753 -0.09817415843632363 … 0.07975419543499652 0.29758537798973567; 0.06321451711728276 0.07066502282807051 … 0.006964392690779233 -0.30252587010113596], [-0.19864865925322495 0.04590723458438676 … -0.08967277661054517 0.3081639755839551; 0.052015630911190915 -0.0630221460357754 … 0.002833089090953115 -0.3016335502250593; 0.08804325649198233 0.045464406351944375 … 0.08414190139555035 0.29630547775079913; 0.0515245850885941 0.2207561402503046 … 0.002823096897834873 -0.3018233699192239], [-0.19510627310912992 0.18413261193635033 … -0.08738130658612062 0.30395374904301237; 0.03279029283710505 0.07519118269675953 … -0.0009130357145440153 -0.3020357299317048; 0.09578735145420518 0.18478964072914267 … 0.08687354556868568 0.29998731488945557; 0.03240285026144035 0.3600242405359672 … -0.0008861417902849535 -0.30162250599231094], [-0.19153132706255196 0.2588636681615123 … -0.08594025742190547 0.30127336513501934; 0.013435490661005679 0.14435305084000402 … -0.004043987613670453 -0.30287190213390064; 0.10307971605140287 0.2605964376637274 … 0.08801843898649483 0.3031140877807028; 0.01343006748903555 0.4301267591964794 … -0.003999807219400874 -0.30153929890049297], [-0.1848020662658066 0.2871343878913136 … -0.08528877984128867 0.2995877127065174; -0.0021211484452926723 0.1610750983981827 … -0.0065259768612061795 -0.303597455824296; 0.11278938650391733 0.289528267177733 … 0.08803442326199928 0.30529117139947554; -0.0016982963671348845 0.4490594541766578 … -0.006483688028927575 -0.30121361070957414], [-0.17214331556427642 0.28230407451739475 … -0.08515917156983964 0.2985211221908316; -0.010383772313922313 0.1403137395016383 … -0.00828798853697029 -0.30399462135383365; 0.12713206940932184 0.28472404981489136 … 0.08734099358354341 0.30650474068235606; -0.009682397932696095 0.431054111019576 … -0.008261890540559142 -0.30064301674809724], [-0.15180538771049282 0.25313234440755983 … -0.08526274812549764 0.29786405311894865; -0.008552019383552226 0.09364462742762221 … -0.009210041762185407 -0.30401658322227143; 0.14768236306134036 0.25498858172162275 … 0.08634618698301004 0.30687561190544; -0.007781674070277524 0.38673079363292706 … -0.009205930428520718 -0.299984069848037], [-0.1235460419049342 0.20588462834898685 … -0.08537285419745964 0.29752082972547755; 0.0048344702518807155 0.030486360085671262 … -0.009205741988316932 -0.30370273313712376; 0.17518031231858217 0.20688535458016186 … 0.08544232410949958 0.30658524848306007; 0.005569209616041114 0.32520772745146037 … -0.009219171443033032 -0.29942983420817654], [-0.08879296171634116 0.14642986979265302 … -0.08531128183429679 0.29746451462280143; 0.029097712267199594 -0.04061495148736414 … -0.008280318071948895 -0.30313412695361586; 0.2088290677571538 0.14669099787052378 … 0.0849111324848428 0.30584911470458465; 0.029896897651655093 0.25511542179050106 … -0.008299965727451744 -0.29914176620278016], [-0.05064995140806332 0.08080087509027879 … -0.08495259718364488 0.2976935954589883; 0.061223552212900996 -0.1120679751175538 … -0.0065422898453916705 -0.30240635509900166; 0.24590551550851616 0.08075631978711732 … 0.08486760132835834 0.3048827285368238; 0.062362897516455525 0.18417826258723513 … -0.006556375325643522 -0.2992118390760743]  …  [-0.1971436523634303 -0.0030037789017695335 … -0.08634473156782375 0.2990417909396221; -0.01700903520797982 -0.18601145395120972 … 7.699432019622343e-5 -0.299021369928934; 0.16298760339670776 -0.003734001340304877 … 0.08649338952682316 0.29902728257362277; -0.016299590397995792 0.1741601791231071 … 7.916418777234775e-5 -0.29904789482630767], [-0.2046327037170989 -0.0031691331046594436 … -0.08630349751387185 0.29884778451563915; -0.015988439099940518 -0.19397772600652327 … 0.00017588550369365482 -0.29878726516757625; 0.17271976680493534 -0.003880400210040938 … 0.08668715719721053 0.29884868719691005; -0.015298993624870283 0.18341955791094838 … 0.00017786699985427812 -0.29890932416307475], [-0.2095407671986313 -0.003591074729969132 … -0.0861439147167565 0.2986215140989159; -0.01621458901755076 -0.19822504600889757 … 0.00024379905838235562 -0.2985308228331405; 0.17745444913687022 -0.004270428503217933 … 0.08669274490296014 0.2986368349523311; -0.015558590114574052 0.18882012551730082 … 0.00024564835543884747 -0.2987275737406639], [-0.20961803310981533 -0.004287788571164668 … -0.0859004339793415 0.29835282567982835; -0.01819535728197245 -0.19617255901283784 … 0.00027179115744352026 -0.2982449346598455; 0.17384062504171463 -0.00491586039855665 … 0.08651972819587107 0.29837902277884976; -0.01759190184273609 0.18734007113039078 … 0.0002735465589707844 -0.29848692122645126], [-0.20382350593082174 -0.005206008443308532 … -0.08559276509470128 0.29801466022294415; -0.02223046916327792 -0.1866594479553356 … 0.00026287569144763665 -0.2979049275851608; 0.1601300287247223 -0.005763424752557284 … 0.08618948888127075 0.29804605596775885; -0.021698251657697606 0.1773502874058985 … 0.0002645605178994575 -0.29815578845750734], [-0.19156414024232257 -0.006191502917206044 … -0.08498458102453924 0.2975285395296607; -0.027906525987090165 -0.16953898579416435 … 0.00022605972746633676 -0.2974329425669768; 0.1364771017862934 -0.006662769396356942 … 0.08548531123541174 0.29755833788029484; -0.027460289068454772 0.15855906432434197 … 0.0002277352507106915 -0.29765393991039363], [-0.16844068848832297 -0.00697354143980902 … -0.08316074680394497 0.29669248228491; -0.03354882280930351 -0.14176993352658082 … 0.00015964827568467263 -0.296624227970003; 0.1018457864390605 -0.007339514479626514 … 0.08349938056305743 0.29671451221799144; -0.033206148784252 0.12857051925354016 … 0.00016151242596447422 -0.296782771113069], [-0.12376671891661527 -0.007050868631902898 … -0.0785958223149355 0.29538431010405863; -0.03544708012999605 -0.09550746032898505 … 6.217874776998259e-5 -0.2953482346364282; 0.0531061459159891 -0.007278229456558283 … 0.07872186334050915 0.2953955846570422; -0.03523695484372604 0.08140617113008182 … 6.455366622103475e-5 -0.295431659615712], [-0.0597800201090249 -0.005481997301590785 … -0.07173284687989702 0.29870370247377237; -0.02787964966098851 -0.03747127470965795 … -4.13697083437923e-6 -0.2986952249931334; 0.004087684965585928 -0.005560870955025914 … 0.07172653362295119 0.2987048773716749; -0.027807441616978075 0.02641245629280018 … -1.347304787667422e-6 -0.2987133540087253], [-0.008882604187371294 -0.0016997521810188426 … -0.06579581800855543 0.3832986573191417; -0.008616345806048649 -0.0019665436639701786 … -1.653241815326445e-6 -0.38330198692008255; -0.008349381070266207 -0.0017003984726865352 … 0.06579446723447244 0.3832961450937787; -0.008615754217700297 -0.0014331877892139438 … 2.842761561887072e-7 -0.38329281549258265]], 0.0:0.1:5.0, (N = 51, nx = 12, nu = 4, Xref = [[0.0, 0.0, 0.0, -1.032890473581568e-26, 9.473993829601898e-26, 5.1074433812390215e-28, 0.0, 0.0, 0.0, 0.0, 0.0, 0.0], [0.0049822153604175525, 0.010000000099958422, 0.010000000099958422, 0.09964430720835105, 0.20000000199916848, 0.20000000199916848, 0.0, 0.0, 0.0, 0.0, 0.0, 0.0], [0.016445500745529792, 0.04000000039981948, 0.04000000039981948, 0.12962140049389373, 0.4000000039980526, 0.4000000039980526, 0.0, 0.0, 0.0, 0.0, 0.0, 0.0], [0.028567660990547104, 0.09000000089954532, 0.09000000089954531, 0.11282180440645248, 0.6000000059964641, 0.6000000059964642, 0.0, 0.0, 0.0, 0.0, 0.0, 0.0], [0.03757577528009417, 0.16000000159906747, 0.16000000159906744, 0.06734048138448882, 0.8000000079939781, 0.8000000079939782, 0.0, 0.0, 0.0, 0.0, 0.0, 0.0], [0.04135772796393209, 0.25000000249823134, 0.2500000024982313, 0.00829857229226963, 1.0000000099892992, 1.0000000099892992, 0.0, 0.0, 0.0, 0.0, 0.0, 0.0], [0.03924251690191364, 0.3600000035963693, 0.36000000359636924, -0.05060279353263861, 1.20000001197346, 1.2000000119734602, 0.0, 0.0, 0.0, 0.0, 0.0, 0.0], [0.031929538824933684, 0.48747500447031716, 0.48747503233907674, -0.09565676800696046, 1.3495000055054975, 1.3495005628806902, 0.0, 0.0, 0.0, 0.0, 0.0, 0.0], [0.021560469589087736, 0.6257538979324135, 0.6257539951781522, -0.11172461670995842, 1.4160778637364275, 1.4160786939008205, 0.0, 0.0, 0.0, 0.0, 0.0, 0.0], [0.01194021167959658, 0.7675990413074311, 0.7675992270539618, -0.08068054147986471, 1.4208250037639238, 1.4208259436153716, 0.0, 0.0, 0.0, 0.0, 0.0, 0.0]  …  [1.9008451473832815, 1.9802514229565518, 1.980251484248382, 0.18078005598703642, 0.03612553723243528, 0.03612541370968745, 0.0, 0.0, 0.0, 0.0, 0.0, 0.0], [1.9182355125011783, 1.9837241586588852, 1.9837242083383064, 0.16702724637089914, 0.033329176814228714, 0.03332906808879955, 0.0, 0.0, 0.0, 0.0, 0.0, 0.0], [1.9342794159736008, 1.9869238462208594, 1.986923885532661, 0.15385082307754816, 0.03066457442525647, 0.030664475798290826, 0.0, 0.0, 0.0, 0.0, 0.0, 0.0], [1.949005484507199, 1.9898576771592744, 1.9898577067481176, 0.14067054759441472, 0.02801204434304661, 0.02801194851084234, 0.0, 0.0, 0.0, 0.0, 0.0, 0.0], [1.9623766105128617, 1.9925193999911366, 1.9925194200197704, 0.12675197251884257, 0.025222412294196767, 0.025222316922211677, 0.0, 0.0, 0.0, 0.0, 0.0, 0.0], [1.9742715279765284, 1.9948857602119772, 1.9948857713298442, 0.11114637675449042, 0.022104792122613376, 0.02210470927926659, 0.0, 0.0, 0.0, 0.0, 0.0, 0.0], [1.9844593460635789, 1.9969115182382091, 1.996911522706178, 0.09260998498651812, 0.018410368402021964, 0.018410318247408956, 0.0, 0.0, 0.0, 0.0, 0.0, 0.0], [1.9925646178527694, 1.998522573981742, 1.9985225751380606, 0.06949545079728851, 0.013810746468639773, 0.013810730390242084, 0.0, 0.0, 0.0, 0.0, 0.0, 0.0], [1.9980196951963167, 1.999606555652587, 1.9996065558287863, 0.039606096073662736, 0.00786888694826123, 0.007868883424273259, 0.0, 0.0, 0.0, 0.0, 0.0, 0.0], [2.0, 2.0, 2.0, 0.0, 0.0, 1.9766498829593394e-26, 0.0, 0.0, 0.0, 0.0, 0.0, 0.0]], Uref = [[1.22625, 1.22625, 1.22625, 1.22625], [1.22625, 1.22625, 1.22625, 1.22625], [1.22625, 1.22625, 1.22625, 1.22625], [1.22625, 1.22625, 1.22625, 1.22625], [1.22625, 1.22625, 1.22625, 1.22625], [1.22625, 1.22625, 1.22625, 1.22625], [1.22625, 1.22625, 1.22625, 1.22625], [1.22625, 1.22625, 1.22625, 1.22625], [1.22625, 1.22625, 1.22625, 1.22625], [1.22625, 1.22625, 1.22625, 1.22625]  …  [1.22625, 1.22625, 1.22625, 1.22625], [1.22625, 1.22625, 1.22625, 1.22625], [1.22625, 1.22625, 1.22625, 1.22625], [1.22625, 1.22625, 1.22625, 1.22625], [1.22625, 1.22625, 1.22625, 1.22625], [1.22625, 1.22625, 1.22625, 1.22625], [1.22625, 1.22625, 1.22625, 1.22625], [1.22625, 1.22625, 1.22625, 1.22625], [1.22625, 1.22625, 1.22625, 1.22625], [1.22625, 1.22625, 1.22625, 1.22625]], Q = [1.0 0.0 … 0.0 0.0; 0.0 1.0 … 0.0 0.0; … ; 0.0 0.0 … 0.1 0.0; 0.0 0.0 … 0.0 0.1], R = [0.1 0.0 0.0 0.0; 0.0 0.1 0.0 0.0; 0.0 0.0 0.1 0.0; 0.0 0.0 0.0 0.1], Qf = [10.0 0.0 … 0.0 0.0; 0.0 10.0 … 0.0 0.0; … ; 0.0 0.0 … 1.0 0.0; 0.0 0.0 … 0.0 1.0], model = (mass = 0.5, J = [0.0023 0.0 0.0; 0.0 0.0023 0.0; 0.0 0.0 0.004], gravity = [0.0, 0.0, -9.81], L = 0.175, kf = 1.0, km = 0.0245, dt = 0.1)))"
      ]
     },
     "execution_count": 91,
     "metadata": {},
     "output_type": "execute_result"
    }
   ],
   "source": [
    "# dynamics parameters (these are estimated)\n",
    "model = (mass=0.5,\n",
    "        J=Diagonal([0.0023, 0.0023, 0.004]),\n",
    "        gravity=[0,0,-9.81],\n",
    "        L=0.1750,\n",
    "        kf=1.0,\n",
    "        km=0.0245, dt = dt)\n",
    "\n",
    "Xref, Uref = create_reference(X̃, 0.1)\n",
    "Xilqr, Uilqr, Kilqr, t_vec, params =  solve_quadrotor_trajectory(Xref, Uref)"
   ]
  },
  {
   "cell_type": "code",
   "execution_count": 101,
   "id": "322ed7a8",
   "metadata": {},
   "outputs": [
    {
     "data": {
      "text/plain": [
       "0.09553030912758327"
      ]
     },
     "metadata": {},
     "output_type": "display_data"
    }
   ],
   "source": [
    "# simulate closed loop system \n",
    "nx, nu, N = params.nx, params.nu, params.N\n",
    "Xsim = [zeros(nx) for i = 1:N]\n",
    "Usim = [zeros(nx) for i = 1:(N-1)]\n",
    "\n",
    "# initial condition \n",
    "Xsim[1] = 1*Xilqr[1]\n",
    "\n",
    "# TODO: simulate with closed loop control \n",
    "for i = 1:(N-1) \n",
    "    Usim[i] = Uilqr[i] - Kilqr[i] * (Xsim[i] - Xilqr[i])\n",
    "\n",
    "    Xsim[i+1] = rk4(model, quadrotor_dynamics, Xsim[i], Usim[i], model.dt)\n",
    "end\n",
    "\n",
    "# display(animate_quadrotor(Xsim, params.Xref, params.model.dt, [b1, b2, b3]))\n",
    "\n",
    "# Check error\n",
    "errors = [0.0 for i = 1:N]\n",
    "\n",
    "for k = 1:N\n",
    "    errors[k] = norm(X̃[1:3, k] - Xilqr[k][1:3])\n",
    "end\n",
    "\n",
    "display(maximum(errors))"
   ]
  }
 ],
 "metadata": {
  "kernelspec": {
   "display_name": "Julia 1.6.7",
   "language": "julia",
   "name": "julia-1.6"
  },
  "language_info": {
   "file_extension": ".jl",
   "mimetype": "application/julia",
   "name": "julia",
   "version": "1.6.7"
  }
 },
 "nbformat": 4,
 "nbformat_minor": 5
}
