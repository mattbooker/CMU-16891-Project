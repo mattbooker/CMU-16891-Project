{
 "cells": [
  {
   "cell_type": "code",
   "execution_count": 1,
   "id": "5bb3c5c6",
   "metadata": {},
   "outputs": [
    {
     "name": "stderr",
     "output_type": "stream",
     "text": [
      "\u001b[32m\u001b[1m  Activating\u001b[22m\u001b[39m environment at `C:\\Users\\Matthew\\Desktop\\Work\\CMU\\Spring 2023\\Multi-Agent Planning\\project\\julia\\Project.toml`\n"
     ]
    }
   ],
   "source": [
    "import Pkg\n",
    "Pkg.activate(@__DIR__)\n",
    "Pkg.instantiate()\n",
    "using LinearAlgebra, Plots\n",
    "import ForwardDiff as FD\n",
    "import MeshCat as mc \n",
    "using JLD2\n",
    "using Test\n",
    "using Random"
   ]
  },
  {
   "cell_type": "code",
   "execution_count": 2,
   "id": "8615b19a",
   "metadata": {},
   "outputs": [
    {
     "ename": "LoadError",
     "evalue": "LoadError: ArgumentError: Package MathOptInterface not found in current path:\n- Run `import Pkg; Pkg.add(\"MathOptInterface\")` to install the MathOptInterface package.\n\nin expression starting at C:\\Users\\Matthew\\Desktop\\Work\\CMU\\Spring 2023\\Multi-Agent Planning\\project\\julia\\utils\\fmincon.jl:1",
     "output_type": "error",
     "traceback": [
      "LoadError: ArgumentError: Package MathOptInterface not found in current path:\n- Run `import Pkg; Pkg.add(\"MathOptInterface\")` to install the MathOptInterface package.\n\nin expression starting at C:\\Users\\Matthew\\Desktop\\Work\\CMU\\Spring 2023\\Multi-Agent Planning\\project\\julia\\utils\\fmincon.jl:1",
      "",
      "Stacktrace:",
      " [1] require(into::Module, mod::Symbol)",
      "   @ Base .\\loading.jl:893",
      " [2] include(fname::String)",
      "   @ Base.MainInclude .\\client.jl:444",
      " [3] top-level scope",
      "   @ In[2]:1"
     ]
    }
   ],
   "source": [
    "include(joinpath(@__DIR__, \"utils\",\"fmincon.jl\"))"
   ]
  },
  {
   "cell_type": "code",
   "execution_count": null,
   "id": "0a267d11",
   "metadata": {},
   "outputs": [],
   "source": [
    "\"\"\"\n",
    "continuous time dynamics for a double integrator, the state is \n",
    "x = [p, ṗ]\n",
    "where p is the 3D position\n",
    "\"\"\"\n",
    "function dynamics(x::Vector, u)\n",
    "    # cartpole ODE, parametrized by params. \n",
    "\n",
    "    g = 9.81\n",
    "    \n",
    "    state_mat = [0 I(3);0 0]\n",
    "    control_mat = [zeros(3); ones(3)]\n",
    "    \n",
    "    display(state_mat)\n",
    "    display(control_mat)\n",
    "    \n",
    "    return \n",
    "\n",
    "end\n",
    "\n",
    "function rk4(x::Vector, u, dt::Float64)\n",
    "    # vanilla RK4\n",
    "    k1 = dt*dynamics(x, u)\n",
    "    k2 = dt*dynamics(x + k1/2, u)\n",
    "    k3 = dt*dynamics(x + k2/2, u)\n",
    "    k4 = dt*dynamics(x + k3, u)\n",
    "    x + (1/6)*(k1 + 2*k2 + 2*k3 + k4)\n",
    "end"
   ]
  },
  {
   "cell_type": "code",
   "execution_count": null,
   "id": "4410ecd4",
   "metadata": {},
   "outputs": [],
   "source": [
    "function cost(params::NamedTuple, X::Vector)::Real\n",
    "    idx, N, xg = params.idx, params.N, params.xg\n",
    "    Q, R, Qf = params.Q, params.R, params.Qf\n",
    "    \n",
    "    # TODO: input cartpole LQR cost \n",
    "    \n",
    "    J = 0 \n",
    "    for i = 1:(N-1)\n",
    "        xi = Z[idx.x[i]]\n",
    "        ui = Z[idx.u[i]]\n",
    "       \n",
    "        J += 1/2 * (xi - xg)' * Q * (xi - xg) + 1/2 * ui' * R * ui\n",
    "\n",
    "    end\n",
    "    \n",
    "    # dont forget terminal cost\n",
    "    J += 1/2 * Z[idx.x[N]]' * Qf * Z[idx.x[N]]\n",
    "    \n",
    "    return J \n",
    "end"
   ]
  },
  {
   "cell_type": "code",
   "execution_count": null,
   "id": "f8079772",
   "metadata": {},
   "outputs": [],
   "source": [
    "# states and control sizes \n",
    "nx = 6 \n",
    "nu = 3 \n",
    "\n",
    "dt = 0.05\n",
    "tf = 2.0 \n",
    "t_vec = 0:dt:tf \n",
    "N = length(t_vec)\n",
    "    \n",
    "# LQR cost \n",
    "Q = diagm(ones(nx))\n",
    "R = 0.1*diagm(ones(nu))\n",
    "Qf = 10*diagm(ones(nx))\n",
    "            \n",
    "# initial and goal states \n",
    "xic = [0, 0, 0, 0, 0, 0]\n",
    "xg = [5, 4, 3, 0, 0, 0]\n",
    "\n",
    "\n",
    "# load all useful things into params \n",
    "params = (Q = Q, R = R, Qf = Qf, xic = xic, xg = xg, dt = dt, N = N)\n",
    "\n",
    "x_l = -Inf * ones(idx.nz)\n",
    "x_u =  Inf * ones(idx.nz)\n",
    "\n",
    "for i = 1 : N - 1\n",
    "    x_l[idx.u[i]] .= -10\n",
    "    x_u[idx.u[i]] .= 10\n",
    "end\n",
    "\n",
    "# inequality constraint bounds (this is what we do when we have no inequality constraints)\n",
    "c_l = zeros(0)\n",
    "c_u = zeros(0)\n",
    "function inequality_constraint(params, Z)\n",
    "    return zeros(eltype(Z), 0)\n",
    "end\n",
    "\n",
    "# initial guess \n",
    "z0 = 0.001*randn(idx.nz)\n",
    "\n",
    "# choose diff type (try :auto, then use :finite if :auto doesn't work)\n",
    "diff_type = :auto \n",
    "#     diff_type = :finite\n",
    "\n",
    "\n",
    "Z = fmincon(cartpole_cost,cartpole_equality_constraint,inequality_constraint,\n",
    "            x_l,x_u,c_l,c_u,z0,params, diff_type;\n",
    "            tol = 1e-6, c_tol = 1e-6, max_iters = 10_000, verbose = verbose)\n",
    "\n",
    "# pull the X and U solutions out of Z \n",
    "X = [Z[idx.x[i]] for i = 1:N]\n",
    "U = [Z[idx.u[i]] for i = 1:(N-1)]\n",
    "\n",
    "return X, U, t_vec, params "
   ]
  }
 ],
 "metadata": {
  "kernelspec": {
   "display_name": "Julia 1.6.7",
   "language": "julia",
   "name": "julia-1.6"
  },
  "language_info": {
   "file_extension": ".jl",
   "mimetype": "application/julia",
   "name": "julia",
   "version": "1.6.7"
  }
 },
 "nbformat": 4,
 "nbformat_minor": 5
}
